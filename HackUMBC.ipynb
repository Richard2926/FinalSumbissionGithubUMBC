{
 "cells": [
  {
   "cell_type": "code",
   "execution_count": null,
   "metadata": {
    "scrolled": false
   },
   "outputs": [],
   "source": [
    "!pip install firebase_admin"
   ]
  },
  {
   "cell_type": "code",
   "execution_count": null,
   "metadata": {},
   "outputs": [],
   "source": [
    "import firebase_admin\n",
    "from firebase_admin import credentials\n",
    "from firebase_admin import firestore\n",
    "\n",
    "cred = credentials.Certificate(\"hackumbc-2926-firebase-adminsdk-mhx9l-eb2278c11a.json\")\n",
    "firebase_admin.initialize_app(cred)"
   ]
  },
  {
   "cell_type": "code",
   "execution_count": null,
   "metadata": {},
   "outputs": [],
   "source": [
    "db = firestore.client()"
   ]
  },
  {
   "cell_type": "code",
   "execution_count": null,
   "metadata": {},
   "outputs": [],
   "source": [
    "# foods = db.collection(u'foods')\n",
    "# docs = foods.stream()\n",
    "\n",
    "# for doc in docs:\n",
    "#     print(f'{doc.id} => {doc.to_dict()}')"
   ]
  },
  {
   "cell_type": "code",
   "execution_count": null,
   "metadata": {},
   "outputs": [],
   "source": [
    "from selenium import webdriver\n",
    "from selenium.webdriver.common.keys import Keys\n",
    "from selenium.webdriver.support.select import Select\n",
    "from selenium.webdriver.common.by import By\n",
    "from selenium.webdriver.support.ui import WebDriverWait\n",
    "from selenium.webdriver.support import expected_conditions as EC\n",
    "\n",
    "\n",
    "from random import seed\n",
    "from random import randint\n",
    "import time\n",
    "import pandas as pd\n",
    "import xlwt \n",
    "from openpyxl import Workbook\n",
    "from datetime import datetime"
   ]
  },
  {
   "cell_type": "code",
   "execution_count": null,
   "metadata": {},
   "outputs": [],
   "source": [
    "import uuid"
   ]
  },
  {
   "cell_type": "code",
   "execution_count": 240,
   "metadata": {},
   "outputs": [],
   "source": [
    "PATH = r\"C:\\Users\\richa\\AppData\\Roaming\\npm\\node_modules\\webdriver-manager\\selenium\\chromedriver_95.0.4638.54.exe\"\n",
    "\n",
    "driver = webdriver.Chrome(PATH)"
   ]
  },
  {
   "cell_type": "code",
   "execution_count": null,
   "metadata": {},
   "outputs": [],
   "source": [
    "# base = \"https://sushimito.net/dinner-menu/sushi/\"\n",
    "\n",
    "# base = \"https://www.ramenbarbyhajime.com/s/order\"\n",
    "\n",
    "base = \"https://www.toasttab.com/sakura-ramen-1235-chattahoochee-ave-nw-suite-130/v3\"\n",
    "driver.get(base)"
   ]
  },
  {
   "cell_type": "code",
   "execution_count": null,
   "metadata": {},
   "outputs": [],
   "source": [
    "# raw_results = driver.find_elements_by_xpath(\"//div[@class='elementor-widget-wrap']\")\n",
    "# images = driver.find_elements_by_xpath(\"//img[@class='attachment-large size-large']\")\n",
    "\n",
    "# raw_results = driver.find_elements_by_xpath(\"//div[@class='card product-group item-card hover-fade-80 square__card-item_itemCard--1n9Op square__orderonline_light--3YBBG square__card-item_light--25P4q square__card-item_mobileList--2C-H3 square__card-item_imageRightTile--1HZ4- image-right-tile has-image']\")\n",
    "# images = driver.find_elements_by_xpath(\"//img[@class='attachment-large size-large']\")\n",
    "\n",
    "raw_results = driver.find_elements_by_xpath(\"//div[@class='ItemContainer']\")\n",
    "images = driver.find_elements_by_xpath(\"//img[@class='attachment-large size-large']\")\n",
    "\n",
    "\n",
    "foods = []\n",
    "urls = []\n",
    "stuff = []\n",
    "\n",
    "for image in images:\n",
    "#     print(image.get_attribute(\"src\"))\n",
    "    urls.append(image.get_attribute(\"src\"))\n",
    "\n",
    "for row in raw_results:\n",
    "    placeHolder = row.text.splitlines()\n",
    "    if len(placeHolder) > 1:\n",
    "        if placeHolder[1][0] == '$':\n",
    "            placeHolder.append('')\n",
    "            placeHolder[2] = placeHolder[1]\n",
    "            placeHolder[1] = placeHolder[0]\n",
    "#     print(placeHolder)\n",
    "    if(len(placeHolder) == 3) and placeHolder[2][0] == '$':\n",
    "        stuff.append(placeHolder)\n",
    "        \n",
    "print(stuff)\n",
    "print(urls)\n",
    "print(len(stuff))\n",
    "print(len(urls))"
   ]
  },
  {
   "cell_type": "code",
   "execution_count": null,
   "metadata": {},
   "outputs": [],
   "source": [
    "for i in range(len(urls)):\n",
    "    data = {}\n",
    "    data['description'] = stuff[i][1]\n",
    "    data['foodID'] = str(uuid.uuid4())\n",
    "    data['foodName'] = stuff[i][0]\n",
    "    data['foodURL'] = urls[i]\n",
    "    data['price'] = float(stuff[i][2][1:]) - 5\n",
    "    data['storeID'] = 2\n",
    "    data['storeName'] = 'Ramen Bar by Hajime'\n",
    "    data['foodLink'] = base\n",
    "    data['storeAddress'] = \"Ramen Bar by Hajime, 497 2nd St Ste A, Macon, GA 31201\"\n",
    "    data['storeImg'] = 'https://secureservercdn.net/166.62.112.107/m2r.5ce.myftpupload.com/wp-content/uploads/2020/12/mito-logo-color-e1608843891599.png'\n",
    "    data['location'] = firestore.GeoPoint(32.835640, -83.630190)\n",
    "    data['categories'] = '100'\n",
    "    db.collection(u'foods').document(data['foodID']).set(data)\n",
    "\n"
   ]
  },
  {
   "cell_type": "code",
   "execution_count": 215,
   "metadata": {},
   "outputs": [],
   "source": [
    "raw_results = driver.find_elements_by_xpath(\"//a[@data-testid='menu-item-link']\")\n",
    "\n",
    "foods = []\n",
    "\n",
    "    \n",
    "for row in raw_results:\n",
    "    data = {}\n",
    "    try:\n",
    "        srcURL = (row.find_element_by_xpath(\"./child::div[@data-testid='menu-item-image']\").get_attribute(\"style\")[23:-3])\n",
    "        placeHolder = row.text.splitlines()\n",
    "        if placeHolder[1][0] == '$':\n",
    "            placeHolder.append('')\n",
    "            placeHolder[2] = placeHolder[1]\n",
    "            placeHolder[1] = placeHolder[0]\n",
    "        data['description'] = placeHolder[1]\n",
    "        data['foodID'] = str(uuid.uuid4())\n",
    "        data['foodName'] = placeHolder[0]\n",
    "        data['foodURL'] = srcURL\n",
    "        data['price'] = float(placeHolder[2][1:]) - 2\n",
    "        data['storeID'] = 2\n",
    "        data['storeName'] = 'Sakura Ramen Bar'\n",
    "        data['foodLink'] = base\n",
    "        data['storeAddress'] = \"Sakura Ramen Bar, 497 2nd St Ste A, Macon, GA 31201\"\n",
    "        data['storeImg'] = 'https://secureservercdn.net/166.62.112.107/52p.010.myftpupload.com/wp-content/uploads/2021/04/SAKURA-BIG-LOGO-T-SHIRT-1.png'\n",
    "        data['location'] = firestore.GeoPoint(32.835640, -83.630190)\n",
    "        data['categories'] = '100'\n",
    "        db.collection(u'foods').document(data['foodID']).set(data)\n",
    "        \n",
    "    except :\n",
    "        pass"
   ]
  },
  {
   "cell_type": "code",
   "execution_count": 311,
   "metadata": {},
   "outputs": [],
   "source": [
    "cities_ref = db.collection(u'foods').where(u'storeID', u'==', 7).get()\n",
    "for city in cities_ref:\n",
    "    db.collection(u'foods').document(city.id).update({\n",
    "        'storeImg': 'https://encrypted-tbn0.gstatic.com/images?q=tbn:ANd9GcT16G-A7KyIScaTpoBHFPNkMk7276L0ag--NQ&usqp=CAU'\n",
    "    })\n",
    "#     print(city.get('foodName'))"
   ]
  },
  {
   "cell_type": "code",
   "execution_count": 212,
   "metadata": {},
   "outputs": [],
   "source": [
    "base = \"https://order.sweetgreen.com/ponce-city-market/menu\"\n",
    "driver.get(base)"
   ]
  },
  {
   "cell_type": "code",
   "execution_count": 220,
   "metadata": {},
   "outputs": [],
   "source": [
    "raw_results = driver.find_elements_by_xpath(\"//div[@class='card-inner ']\")\n",
    "\n",
    "    \n",
    "for row in raw_results:\n",
    "    try:\n",
    "        srcURL = (row.find_element_by_xpath(\"./child::div[@class='product-image-wrap']\").find_element_by_xpath(\"./child::div[@class='card-image ember-view cloudinary-asset-container']\").find_element_by_xpath(\"./child::div[@class='ember-view background-image']\").get_attribute(\"style\")[135:-3])\n",
    "        placeHolder = row.text.splitlines()\n",
    "        if(len(placeHolder) == 5):\n",
    "            placeHolder[0] = placeHolder[1]\n",
    "            placeHolder[1] = placeHolder[3]\n",
    "            placeHolder[2] = placeHolder[4]\n",
    "        placeHolder[2] = float(placeHolder[2][1:-10])\n",
    "        if placeHolder[2] >= 1.0:\n",
    "            data = {}\n",
    "            data['description'] = placeHolder[1]\n",
    "            data['foodID'] = str(uuid.uuid4())\n",
    "            data['foodName'] = placeHolder[0]\n",
    "            data['foodURL'] = srcURL\n",
    "            data['price'] = placeHolder[2]\n",
    "            data['storeID'] = 3\n",
    "            data['storeName'] = 'Sweet Green'\n",
    "            data['foodLink'] = base\n",
    "            data['storeAddress'] = \"Sweet Green, 600 New St Suite B, Macon, GA 31201\"\n",
    "            data['storeImg'] = 'https://www.nrn.com/sites/nrn.com/files/styles/article_featured_standard/public/sweetgreen-rebrands.jpg?itok=gNOwV2lO'\n",
    "            data['location'] = firestore.GeoPoint(32.835520, -83.634250)\n",
    "            data['categories'] = '001'\n",
    "            db.collection(u'foods').document(data['foodID']).set(data)\n",
    "#             print(data)\n",
    "        \n",
    "        \n",
    "    except :\n",
    "        print(placeHolder)\n",
    "        print(\"Sad\")\n",
    "        pass\n",
    "    "
   ]
  },
  {
   "cell_type": "code",
   "execution_count": 223,
   "metadata": {},
   "outputs": [],
   "source": [
    "base = \"https://order.truefoodkitchen.com/menu/alpharetta\"\n",
    "driver.get(base)"
   ]
  },
  {
   "cell_type": "code",
   "execution_count": 239,
   "metadata": {},
   "outputs": [
    {
     "ename": "IndexError",
     "evalue": "list index out of range",
     "output_type": "error",
     "traceback": [
      "\u001b[1;31m---------------------------------------------------------------------------\u001b[0m",
      "\u001b[1;31mIndexError\u001b[0m                                Traceback (most recent call last)",
      "\u001b[1;32m<ipython-input-239-0091c073f3ed>\u001b[0m in \u001b[0;36m<module>\u001b[1;34m\u001b[0m\n\u001b[0;32m      7\u001b[0m     \u001b[1;32mif\u001b[0m \u001b[1;33m(\u001b[0m\u001b[0mlen\u001b[0m\u001b[1;33m(\u001b[0m\u001b[0mplaceHolder\u001b[0m\u001b[1;33m)\u001b[0m \u001b[1;33m==\u001b[0m \u001b[1;36m2\u001b[0m\u001b[1;33m)\u001b[0m\u001b[1;33m:\u001b[0m\u001b[1;33m\u001b[0m\u001b[1;33m\u001b[0m\u001b[0m\n\u001b[0;32m      8\u001b[0m         \u001b[0mplaceHolder\u001b[0m\u001b[1;33m.\u001b[0m\u001b[0mappend\u001b[0m\u001b[1;33m(\u001b[0m\u001b[0mplaceHolder\u001b[0m\u001b[1;33m[\u001b[0m\u001b[1;36m0\u001b[0m\u001b[1;33m]\u001b[0m\u001b[1;33m)\u001b[0m\u001b[1;33m\u001b[0m\u001b[1;33m\u001b[0m\u001b[0m\n\u001b[1;32m----> 9\u001b[1;33m     \u001b[0mplaceHolder\u001b[0m\u001b[1;33m[\u001b[0m\u001b[1;36m1\u001b[0m\u001b[1;33m]\u001b[0m \u001b[1;33m=\u001b[0m \u001b[0mfloat\u001b[0m\u001b[1;33m(\u001b[0m\u001b[0mplaceHolder\u001b[0m\u001b[1;33m[\u001b[0m\u001b[1;36m1\u001b[0m\u001b[1;33m]\u001b[0m\u001b[1;33m[\u001b[0m\u001b[1;36m1\u001b[0m\u001b[1;33m:\u001b[0m\u001b[1;33m]\u001b[0m\u001b[1;33m)\u001b[0m\u001b[1;33m\u001b[0m\u001b[1;33m\u001b[0m\u001b[0m\n\u001b[0m\u001b[0;32m     10\u001b[0m     \u001b[0mdata\u001b[0m \u001b[1;33m=\u001b[0m \u001b[1;33m{\u001b[0m\u001b[1;33m}\u001b[0m\u001b[1;33m\u001b[0m\u001b[1;33m\u001b[0m\u001b[0m\n\u001b[0;32m     11\u001b[0m     \u001b[0mdata\u001b[0m\u001b[1;33m[\u001b[0m\u001b[1;34m'description'\u001b[0m\u001b[1;33m]\u001b[0m \u001b[1;33m=\u001b[0m \u001b[0mplaceHolder\u001b[0m\u001b[1;33m[\u001b[0m\u001b[1;36m2\u001b[0m\u001b[1;33m]\u001b[0m\u001b[1;33m\u001b[0m\u001b[1;33m\u001b[0m\u001b[0m\n",
      "\u001b[1;31mIndexError\u001b[0m: list index out of range"
     ]
    }
   ],
   "source": [
    "raw_results = driver.find_elements_by_xpath(\"//div[@class='_productInfo_sux8ub']\")\n",
    "images = driver.find_elements_by_xpath(\"//img[@class='_image_sux8ub']\")\n",
    "\n",
    "i = 0\n",
    "for row in raw_results:\n",
    "    placeHolder = row.text.splitlines()\n",
    "    if (len(placeHolder) == 2):\n",
    "        placeHolder.append(placeHolder[0])\n",
    "    placeHolder[1] = float(placeHolder[1][1:])\n",
    "    data = {}\n",
    "    data['description'] = placeHolder[2]\n",
    "    data['foodID'] = str(uuid.uuid4())\n",
    "    data['foodName'] = placeHolder[0]\n",
    "    data['foodURL'] = images[i].get_attribute(\"src\")\n",
    "    data['price'] = placeHolder[1]\n",
    "    data['storeID'] = 4\n",
    "    data['storeName'] = 'True Food Kitchen'\n",
    "    data['foodLink'] = base\n",
    "    data['storeAddress'] = \"True Food Kitchen, 4123 Forsyth Rd Suite I, Macon, GA 31210\"\n",
    "    data['storeImg'] = 'https://www.truefoodkitchen.com/wp-content/uploads/2021/10/TrueFoodKitchen_logo_125.png'\n",
    "    data['location'] = firestore.GeoPoint(32.866080, -83.692630)\n",
    "    data['categories'] = '001'\n",
    "    if \"oz\" not in data['foodName'].lower() and \"oz\" not in data['description'].lower() and \"wine\" not in data['foodName'].lower() and \"wine\" not in data['description'].lower():\n",
    "        db.collection(u'foods').document(data['foodID']).set(data)\n",
    "    i = i + 1\n",
    "    "
   ]
  },
  {
   "cell_type": "code",
   "execution_count": 281,
   "metadata": {},
   "outputs": [],
   "source": [
    "base = \"https://www.tacobell.com/food/power-menu\"\n",
    "driver.get(base)"
   ]
  },
  {
   "cell_type": "code",
   "execution_count": 283,
   "metadata": {},
   "outputs": [
    {
     "name": "stdout",
     "output_type": "stream",
     "text": [
      "{'description': 'Power Menu Bowl', 'foodID': '6dc2b713-6b3a-4381-a508-f0ab3906f7b1', 'foodName': 'Power Menu Bowl', 'foodURL': 'https://www.tacobell.com/images/22488_power_menu_bowl_269x269.jpg', 'price': 5.69, 'storeID': 5, 'storeName': 'Taco Bell', 'foodLink': 'https://www.tacobell.com/food/power-menu', 'storeAddress': 'Taco Bell, 945 Gray Hwy, Macon, GA 31211', 'storeImg': 'https://locations.tacobell.com/permanent-b0b701/assets/images/TBUS_Logo.7bd20747.svg', 'location': <google.cloud.firestore_v1._helpers.GeoPoint object at 0x000001F79B5098E0>, 'categories': '011'}\n",
      "{'description': 'Power Menu Bowl - Veggie', 'foodID': '058fac59-c40f-4943-ae98-c9ade76a042d', 'foodName': 'Power Menu Bowl - Veggie', 'foodURL': 'https://www.tacobell.com/images/22490_power_menu_bowl_-_veggie_269x269.jpg', 'price': 5.59, 'storeID': 5, 'storeName': 'Taco Bell', 'foodLink': 'https://www.tacobell.com/food/power-menu', 'storeAddress': 'Taco Bell, 945 Gray Hwy, Macon, GA 31211', 'storeImg': 'https://locations.tacobell.com/permanent-b0b701/assets/images/TBUS_Logo.7bd20747.svg', 'location': <google.cloud.firestore_v1._helpers.GeoPoint object at 0x000001F79D2FB6D0>, 'categories': '011'}\n"
     ]
    }
   ],
   "source": [
    "raw_results = driver.find_elements_by_xpath(\"//div[@class='product-card']\")\n",
    "img = driver.find_elements_by_xpath(\"//picture/img\")\n",
    "\n",
    "i = 0\n",
    "for row in raw_results:\n",
    "    placeHolder = row.text.splitlines()\n",
    "    if (len(placeHolder) == 2):\n",
    "        placeHolder.append(placeHolder[0])\n",
    "    placeHolder[1] = float(placeHolder[1].split(' ')[0][1:])\n",
    "    data = {}\n",
    "    data['description'] = placeHolder[0]\n",
    "    data['foodID'] = str(uuid.uuid4())\n",
    "    data['foodName'] = placeHolder[0]\n",
    "    data['foodURL'] = img[i].get_attribute(\"srcset\")\n",
    "    data['price'] = placeHolder[1]\n",
    "    data['storeID'] = 5\n",
    "    data['storeName'] = 'Taco Bell'\n",
    "    data['foodLink'] = base\n",
    "    data['storeAddress'] = \"Taco Bell, 945 Gray Hwy, Macon, GA 31211\"\n",
    "    data['storeImg'] = 'https://locations.tacobell.com/permanent-b0b701/assets/images/TBUS_Logo.7bd20747.svg'\n",
    "    data['location'] = firestore.GeoPoint(32.853120, -83.618540)\n",
    "    data['categories'] = '011'\n",
    "#     data['veg'] = True\n",
    "    print(data)\n",
    "    db.collection(u'foods').document(data['foodID']).set(data)\n",
    "    i = i + 1"
   ]
  },
  {
   "cell_type": "code",
   "execution_count": 287,
   "metadata": {},
   "outputs": [
    {
     "name": "stdout",
     "output_type": "stream",
     "text": [
      "204\n"
     ]
    }
   ],
   "source": [
    "foods = db.collection(u'foods').get()\n",
    "print(len(foods))"
   ]
  },
  {
   "cell_type": "code",
   "execution_count": 288,
   "metadata": {},
   "outputs": [],
   "source": [
    "base = \"https://laddabistro.com/online-order/\"\n",
    "driver.get(base)"
   ]
  },
  {
   "cell_type": "code",
   "execution_count": 302,
   "metadata": {},
   "outputs": [
    {
     "name": "stdout",
     "output_type": "stream",
     "text": [
      "[{'description': 'A1 Spring Roll', 'foodID': 'b8c53d54-6efe-4ac5-863d-3f9e1b274bc7', 'foodName': 'A1 Spring Roll', 'foodURL': 'http://laddabistro.com/wp-content/uploads/2020/05/1-AP-Spring-Rolls-scaled.jpg\")', 'price': 5.9, 'storeID': 6, 'storeName': 'Ladda Bistro', 'foodLink': 'https://laddabistro.com/online-order/', 'storeAddress': 'Ladda Bistro, 442 Cherry St, Macon, GA 31201', 'storeImg': 'http://laddabistro.com/wp-content/uploads/2020/05/Ladda-Logo-ThumbN.png', 'location': <google.cloud.firestore_v1._helpers.GeoPoint object at 0x000001F7AEE98A30>, 'categories': '000'}, {'description': 'A2 Pork Rolls', 'foodID': '245d8a00-0eb3-48a1-86ba-6393246e0786', 'foodName': 'A2 Pork Rolls', 'foodURL': 'http://laddabistro.com/wp-content/uploads/2020/05/2-AP-Pork-Rolls-scaled.jpg\")', 'price': 5.9, 'storeID': 6, 'storeName': 'Ladda Bistro', 'foodLink': 'https://laddabistro.com/online-order/', 'storeAddress': 'Ladda Bistro, 442 Cherry St, Macon, GA 31201', 'storeImg': 'http://laddabistro.com/wp-content/uploads/2020/05/Ladda-Logo-ThumbN.png', 'location': <google.cloud.firestore_v1._helpers.GeoPoint object at 0x000001F7AEE98B50>, 'categories': '000'}, {'description': 'A3 Dumplings', 'foodID': '6627c503-fa46-40c3-9406-53f15ad198d2', 'foodName': 'A3 Dumplings', 'foodURL': 'http://laddabistro.com/wp-content/uploads/2020/05/3-AP-Pork-Dumpling-scaled.jpg\")', 'price': 7.0, 'storeID': 6, 'storeName': 'Ladda Bistro', 'foodLink': 'https://laddabistro.com/online-order/', 'storeAddress': 'Ladda Bistro, 442 Cherry St, Macon, GA 31201', 'storeImg': 'http://laddabistro.com/wp-content/uploads/2020/05/Ladda-Logo-ThumbN.png', 'location': <google.cloud.firestore_v1._helpers.GeoPoint object at 0x000001F7AEE980D0>, 'categories': '000'}, {'description': 'A4 Chicken Patties', 'foodID': 'ad619913-8096-480f-abd4-300d7dc22364', 'foodName': 'A4 Chicken Patties', 'foodURL': 'http://laddabistro.com/wp-content/uploads/2020/05/4-AP-Chicken-Patties-scaled.jpg\")', 'price': 5.9, 'storeID': 6, 'storeName': 'Ladda Bistro', 'foodLink': 'https://laddabistro.com/online-order/', 'storeAddress': 'Ladda Bistro, 442 Cherry St, Macon, GA 31201', 'storeImg': 'http://laddabistro.com/wp-content/uploads/2020/05/Ladda-Logo-ThumbN.png', 'location': <google.cloud.firestore_v1._helpers.GeoPoint object at 0x000001F7AEE985B0>, 'categories': '000'}, {'description': 'A5 Sa-Tay', 'foodID': '942034bb-da09-4b29-9431-167449e5f3f6', 'foodName': 'A5 Sa-Tay', 'foodURL': 'http://laddabistro.com/wp-content/uploads/2020/05/Chicken-Satay-scaled.jpg\")', 'price': 5.9, 'storeID': 6, 'storeName': 'Ladda Bistro', 'foodLink': 'https://laddabistro.com/online-order/', 'storeAddress': 'Ladda Bistro, 442 Cherry St, Macon, GA 31201', 'storeImg': 'http://laddabistro.com/wp-content/uploads/2020/05/Ladda-Logo-ThumbN.png', 'location': <google.cloud.firestore_v1._helpers.GeoPoint object at 0x000001F7AEE981F0>, 'categories': '000'}, {'description': 'A7 Golden Tofu', 'foodID': 'fb6f62a4-8527-4ea5-9118-8aebc31c4605', 'foodName': 'A7 Golden Tofu', 'foodURL': 'http://laddabistro.com/wp-content/uploads/2020/05/7-AP-Gold-Tofu-scaled.jpg\")', 'price': 5.9, 'storeID': 6, 'storeName': 'Ladda Bistro', 'foodLink': 'https://laddabistro.com/online-order/', 'storeAddress': 'Ladda Bistro, 442 Cherry St, Macon, GA 31201', 'storeImg': 'http://laddabistro.com/wp-content/uploads/2020/05/Ladda-Logo-ThumbN.png', 'location': <google.cloud.firestore_v1._helpers.GeoPoint object at 0x000001F7AC7873D0>, 'categories': '000'}, {'description': 'A9 Shrimp Basil Roll', 'foodID': '3dd22b60-0e77-45b2-9fcd-0fff7c6448fd', 'foodName': 'A9 Shrimp Basil Roll', 'foodURL': 'http://laddabistro.com/wp-content/uploads/2020/05/Shrimp_Basil_Roll.jpg\")', 'price': 5.9, 'storeID': 6, 'storeName': 'Ladda Bistro', 'foodLink': 'https://laddabistro.com/online-order/', 'storeAddress': 'Ladda Bistro, 442 Cherry St, Macon, GA 31201', 'storeImg': 'http://laddabistro.com/wp-content/uploads/2020/05/Ladda-Logo-ThumbN.png', 'location': <google.cloud.firestore_v1._helpers.GeoPoint object at 0x000001F7AEE962E0>, 'categories': '000'}, {'description': 'Pork Buns 2/$5', 'foodID': 'b3f6ce16-dfee-4bf2-90d0-2ef4e288269f', 'foodName': 'Pork Buns 2/$5', 'foodURL': 'http://laddabistro.com/wp-content/uploads/2020/05/Pork-bun.jpg\")', 'price': 5.0, 'storeID': 6, 'storeName': 'Ladda Bistro', 'foodLink': 'https://laddabistro.com/online-order/', 'storeAddress': 'Ladda Bistro, 442 Cherry St, Macon, GA 31201', 'storeImg': 'http://laddabistro.com/wp-content/uploads/2020/05/Ladda-Logo-ThumbN.png', 'location': <google.cloud.firestore_v1._helpers.GeoPoint object at 0x000001F7AEE98D00>, 'categories': '000'}, {'description': 'D4 Papaya Salad', 'foodID': '67a3636f-1270-4344-b28f-86e396b92c88', 'foodName': 'D4 Papaya Salad', 'foodURL': 'http://laddabistro.com/wp-content/uploads/2020/05/14-AP-Papaya-Salad-Sum-Tum-scaled.jpg\")', 'price': 7.0, 'storeID': 6, 'storeName': 'Ladda Bistro', 'foodLink': 'https://laddabistro.com/online-order/', 'storeAddress': 'Ladda Bistro, 442 Cherry St, Macon, GA 31201', 'storeImg': 'http://laddabistro.com/wp-content/uploads/2020/05/Ladda-Logo-ThumbN.png', 'location': <google.cloud.firestore_v1._helpers.GeoPoint object at 0x000001F7AEE96E80>, 'categories': '000'}, {'description': 'D3 Nam Tok', 'foodID': 'c4abe04a-7ea9-4615-9eb5-f8cf188f6d4e', 'foodName': 'D3 Nam Tok', 'foodURL': 'http://laddabistro.com/wp-content/uploads/2020/04/13-AP-Sliced-Grilled-Beef-Salad-Nam-Tok-Nua.jpg\")', 'price': 10.0, 'storeID': 6, 'storeName': 'Ladda Bistro', 'foodLink': 'https://laddabistro.com/online-order/', 'storeAddress': 'Ladda Bistro, 442 Cherry St, Macon, GA 31201', 'storeImg': 'http://laddabistro.com/wp-content/uploads/2020/05/Ladda-Logo-ThumbN.png', 'location': <google.cloud.firestore_v1._helpers.GeoPoint object at 0x000001F7AEE98F40>, 'categories': '000'}, {'description': 'D2 House Salad', 'foodID': '0fe78561-2068-47b9-99bf-ba1aa44e8c44', 'foodName': 'D2 House Salad', 'foodURL': 'http://laddabistro.com/wp-content/uploads/2020/05/12-AP-House-Salad-scaled.jpg\")', 'price': 5.9, 'storeID': 6, 'storeName': 'Ladda Bistro', 'foodLink': 'https://laddabistro.com/online-order/', 'storeAddress': 'Ladda Bistro, 442 Cherry St, Macon, GA 31201', 'storeImg': 'http://laddabistro.com/wp-content/uploads/2020/05/Ladda-Logo-ThumbN.png', 'location': <google.cloud.firestore_v1._helpers.GeoPoint object at 0x000001F7AEE96F70>, 'categories': '000'}, {'description': 'D1 Chicken Larb', 'foodID': '03b16048-4941-4268-bce8-fabca528d526', 'foodName': 'D1 Chicken Larb', 'foodURL': 'http://laddabistro.com/wp-content/uploads/2020/05/11-AP-Spicy-Ground-Chicken-Salad-Chicken-Larb-scaled.jpg\")', 'price': 7.0, 'storeID': 6, 'storeName': 'Ladda Bistro', 'foodLink': 'https://laddabistro.com/online-order/', 'storeAddress': 'Ladda Bistro, 442 Cherry St, Macon, GA 31201', 'storeImg': 'http://laddabistro.com/wp-content/uploads/2020/05/Ladda-Logo-ThumbN.png', 'location': <google.cloud.firestore_v1._helpers.GeoPoint object at 0x000001F7AEE98550>, 'categories': '000'}, {'description': 'Large Papaya Salad', 'foodID': '624cee0a-368e-4a6b-864c-876e0651725f', 'foodName': 'Large Papaya Salad', 'foodURL': 'http://laddabistro.com/wp-content/uploads/2020/05/14-AP-Papaya-Salad-Sum-Tum-scaled.jpg\")', 'price': 10.0, 'storeID': 6, 'storeName': 'Ladda Bistro', 'foodLink': 'https://laddabistro.com/online-order/', 'storeAddress': 'Ladda Bistro, 442 Cherry St, Macon, GA 31201', 'storeImg': 'http://laddabistro.com/wp-content/uploads/2020/05/Ladda-Logo-ThumbN.png', 'location': <google.cloud.firestore_v1._helpers.GeoPoint object at 0x000001F7AEE96700>, 'categories': '000'}, {'description': 'Small Side Salad', 'foodID': '07637449-d7a0-431b-99fa-3bf3880dec70', 'foodName': 'Small Side Salad', 'foodURL': 'http://laddabistro.com/wp-content/uploads/2020/05/12-AP-House-Salad-scaled.jpg\")', 'price': 3.0, 'storeID': 6, 'storeName': 'Ladda Bistro', 'foodLink': 'https://laddabistro.com/online-order/', 'storeAddress': 'Ladda Bistro, 442 Cherry St, Macon, GA 31201', 'storeImg': 'http://laddabistro.com/wp-content/uploads/2020/05/Ladda-Logo-ThumbN.png', 'location': <google.cloud.firestore_v1._helpers.GeoPoint object at 0x000001F7AEE989A0>, 'categories': '000'}, {'description': 'Large Larb Gai', 'foodID': '2b1d15f4-f214-4455-bf9c-42f4fe4a7ef9', 'foodName': 'Large Larb Gai', 'foodURL': 'http://laddabistro.com/wp-content/uploads/2020/05/11-AP-Spicy-Ground-Chicken-Salad-Chicken-Larb-scaled.jpg\")', 'price': 10.0, 'storeID': 6, 'storeName': 'Ladda Bistro', 'foodLink': 'https://laddabistro.com/online-order/', 'storeAddress': 'Ladda Bistro, 442 Cherry St, Macon, GA 31201', 'storeImg': 'http://laddabistro.com/wp-content/uploads/2020/05/Ladda-Logo-ThumbN.png', 'location': <google.cloud.firestore_v1._helpers.GeoPoint object at 0x000001F7AEE988B0>, 'categories': '000'}, {'description': 'Large House Salad', 'foodID': '72efea9e-1de9-445e-83ee-fba2ff7931e0', 'foodName': 'Large House Salad', 'foodURL': 'http://laddabistro.com/wp-content/uploads/2020/05/12-AP-House-Salad-scaled.jpg\")', 'price': 10.0, 'storeID': 6, 'storeName': 'Ladda Bistro', 'foodLink': 'https://laddabistro.com/online-order/', 'storeAddress': 'Ladda Bistro, 442 Cherry St, Macon, GA 31201', 'storeImg': 'http://laddabistro.com/wp-content/uploads/2020/05/Ladda-Logo-ThumbN.png', 'location': <google.cloud.firestore_v1._helpers.GeoPoint object at 0x000001F7AEE984F0>, 'categories': '000'}, {'description': 'Large Tofu Soup', 'foodID': '9c9172b6-8a18-4799-9f55-b99231b62228', 'foodName': 'Large Tofu Soup', 'foodURL': 'http://laddabistro.com/wp-content/uploads/2020/05/18-AP-Tofu-Soup-scaled.jpg\")', 'price': 10.0, 'storeID': 6, 'storeName': 'Ladda Bistro', 'foodLink': 'https://laddabistro.com/online-order/', 'storeAddress': 'Ladda Bistro, 442 Cherry St, Macon, GA 31201', 'storeImg': 'http://laddabistro.com/wp-content/uploads/2020/05/Ladda-Logo-ThumbN.png', 'location': <google.cloud.firestore_v1._helpers.GeoPoint object at 0x000001F7AEE980A0>, 'categories': '000'}, {'description': 'S4 Soup Beef', 'foodID': 'c1e6b7db-d72b-4fd0-aaae-6664aa2f0190', 'foodName': 'S4 Soup Beef', 'foodURL': 'http://laddabistro.com/wp-content/uploads/2020/05/36-A-Beef-Noodle-Soup-scaled.jpg\")', 'price': 5.9, 'storeID': 6, 'storeName': 'Ladda Bistro', 'foodLink': 'https://laddabistro.com/online-order/', 'storeAddress': 'Ladda Bistro, 442 Cherry St, Macon, GA 31201', 'storeImg': 'http://laddabistro.com/wp-content/uploads/2020/05/Ladda-Logo-ThumbN.png', 'location': <google.cloud.firestore_v1._helpers.GeoPoint object at 0x000001F7AEE98880>, 'categories': '000'}, {'description': 'S3 Tofu Soup', 'foodID': '19310f46-428f-408c-901e-fca812834dba', 'foodName': 'S3 Tofu Soup', 'foodURL': 'http://laddabistro.com/wp-content/uploads/2020/05/18-AP-Tofu-Soup-scaled.jpg\")', 'price': 5.9, 'storeID': 6, 'storeName': 'Ladda Bistro', 'foodLink': 'https://laddabistro.com/online-order/', 'storeAddress': 'Ladda Bistro, 442 Cherry St, Macon, GA 31201', 'storeImg': 'http://laddabistro.com/wp-content/uploads/2020/05/Ladda-Logo-ThumbN.png', 'location': <google.cloud.firestore_v1._helpers.GeoPoint object at 0x000001F7AEEA5700>, 'categories': '000'}, {'description': 'S2 Tom Yum Koong', 'foodID': '973d938b-9209-483a-8144-df5713889d5b', 'foodName': 'S2 Tom Yum Koong', 'foodURL': 'http://laddabistro.com/wp-content/uploads/2020/05/17-AP-Tom-Yum-Koong-scaled.jpg\")', 'price': 5.9, 'storeID': 6, 'storeName': 'Ladda Bistro', 'foodLink': 'https://laddabistro.com/online-order/', 'storeAddress': 'Ladda Bistro, 442 Cherry St, Macon, GA 31201', 'storeImg': 'http://laddabistro.com/wp-content/uploads/2020/05/Ladda-Logo-ThumbN.png', 'location': <google.cloud.firestore_v1._helpers.GeoPoint object at 0x000001F79B4D3880>, 'categories': '000'}, {'description': 'S1 Coconut Chicken Soup', 'foodID': '36ea648e-f353-4d89-b1c5-b5528dab1bff', 'foodName': 'S1 Coconut Chicken Soup', 'foodURL': 'http://laddabistro.com/wp-content/uploads/2020/05/16-AP-Coconut-Chicken-Soup-Tom-Kha-Gai-scaled.jpg\")', 'price': 5.9, 'storeID': 6, 'storeName': 'Ladda Bistro', 'foodLink': 'https://laddabistro.com/online-order/', 'storeAddress': 'Ladda Bistro, 442 Cherry St, Macon, GA 31201', 'storeImg': 'http://laddabistro.com/wp-content/uploads/2020/05/Ladda-Logo-ThumbN.png', 'location': <google.cloud.firestore_v1._helpers.GeoPoint object at 0x000001F7AEEA5340>, 'categories': '000'}, {'description': 'Large Tom Yum Koong', 'foodID': 'deae2bdb-2337-411b-9ad1-c40e59bc4a12', 'foodName': 'Large Tom Yum Koong', 'foodURL': 'http://laddabistro.com/wp-content/uploads/2020/05/17-AP-Tom-Yum-Koong-scaled.jpg\")', 'price': 10.0, 'storeID': 6, 'storeName': 'Ladda Bistro', 'foodLink': 'https://laddabistro.com/online-order/', 'storeAddress': 'Ladda Bistro, 442 Cherry St, Macon, GA 31201', 'storeImg': 'http://laddabistro.com/wp-content/uploads/2020/05/Ladda-Logo-ThumbN.png', 'location': <google.cloud.firestore_v1._helpers.GeoPoint object at 0x000001F7AF9A1070>, 'categories': '000'}, {'description': 'Large Coconut Chicken Soup', 'foodID': 'b7cce69b-e42f-4d00-88dd-6e06d3f71a37', 'foodName': 'Large Coconut Chicken Soup', 'foodURL': 'http://laddabistro.com/wp-content/uploads/2020/05/16-AP-Coconut-Chicken-Soup-Tom-Kha-Gai-scaled.jpg\")', 'price': 10.0, 'storeID': 6, 'storeName': 'Ladda Bistro', 'foodLink': 'https://laddabistro.com/online-order/', 'storeAddress': 'Ladda Bistro, 442 Cherry St, Macon, GA 31201', 'storeImg': 'http://laddabistro.com/wp-content/uploads/2020/05/Ladda-Logo-ThumbN.png', 'location': <google.cloud.firestore_v1._helpers.GeoPoint object at 0x000001F7AF9A12B0>, 'categories': '000'}, {'description': 'CS10TempuraShrimp', 'foodID': '9c58b3f8-d748-4ca7-b810-94955fbedc0d', 'foodName': 'CS10TempuraShrimp', 'foodURL': 'http://laddabistro.com/wp-content/uploads/2020/05/29-A-Tempura-Shrimp-Platter-scaled.jpg\")', 'price': 15.0, 'storeID': 6, 'storeName': 'Ladda Bistro', 'foodLink': 'https://laddabistro.com/online-order/', 'storeAddress': 'Ladda Bistro, 442 Cherry St, Macon, GA 31201', 'storeImg': 'http://laddabistro.com/wp-content/uploads/2020/05/Ladda-Logo-ThumbN.png', 'location': <google.cloud.firestore_v1._helpers.GeoPoint object at 0x000001F7AF9A1DF0>, 'categories': '000'}, {'description': 'CS9 Chicken And Shrimp Prik Pow', 'foodID': '04a36498-f361-4e4f-beec-801f6dc45c4d', 'foodName': 'CS9 Chicken And Shrimp Prik Pow', 'foodURL': 'http://laddabistro.com/wp-content/uploads/2020/05/28-A-Chicken-and-Shrimp-Prik-Prow-scaled.jpg\")', 'price': 14.0, 'storeID': 6, 'storeName': 'Ladda Bistro', 'foodLink': 'https://laddabistro.com/online-order/', 'storeAddress': 'Ladda Bistro, 442 Cherry St, Macon, GA 31201', 'storeImg': 'http://laddabistro.com/wp-content/uploads/2020/05/Ladda-Logo-ThumbN.png', 'location': <google.cloud.firestore_v1._helpers.GeoPoint object at 0x000001F7AEEA52B0>, 'categories': '000'}, {'description': 'CS8 Pad Prik King', 'foodID': 'f1ffdde5-1544-4d7d-b00a-c89cda824675', 'foodName': 'CS8 Pad Prik King', 'foodURL': 'http://laddabistro.com/wp-content/uploads/2020/05/Pad-Prik-King-4.jpg\")', 'price': 14.0, 'storeID': 6, 'storeName': 'Ladda Bistro', 'foodLink': 'https://laddabistro.com/online-order/', 'storeAddress': 'Ladda Bistro, 442 Cherry St, Macon, GA 31201', 'storeImg': 'http://laddabistro.com/wp-content/uploads/2020/05/Ladda-Logo-ThumbN.png', 'location': <google.cloud.firestore_v1._helpers.GeoPoint object at 0x000001F7AEE96670>, 'categories': '000'}, {'description': 'CS7 Panang Curry', 'foodID': 'c05f7811-90c2-49bc-b184-7305755113fb', 'foodName': 'CS7 Panang Curry', 'foodURL': 'http://laddabistro.com/wp-content/uploads/2020/05/26-A-Beef-Panang-Curry-Copy-scaled.jpg\")', 'price': 13.5, 'storeID': 6, 'storeName': 'Ladda Bistro', 'foodLink': 'https://laddabistro.com/online-order/', 'storeAddress': 'Ladda Bistro, 442 Cherry St, Macon, GA 31201', 'storeImg': 'http://laddabistro.com/wp-content/uploads/2020/05/Ladda-Logo-ThumbN.png', 'location': <google.cloud.firestore_v1._helpers.GeoPoint object at 0x000001F7AEEA5AC0>, 'categories': '000'}, {'description': 'CS6 Green Curry', 'foodID': '1b45bd21-0e09-49f2-9dbf-2d7e38b03402', 'foodName': 'CS6 Green Curry', 'foodURL': 'http://laddabistro.com/wp-content/uploads/2020/04/25-A-Shrimp-Green-Curry.jpg\")', 'price': 15.0, 'storeID': 6, 'storeName': 'Ladda Bistro', 'foodLink': 'https://laddabistro.com/online-order/', 'storeAddress': 'Ladda Bistro, 442 Cherry St, Macon, GA 31201', 'storeImg': 'http://laddabistro.com/wp-content/uploads/2020/05/Ladda-Logo-ThumbN.png', 'location': <google.cloud.firestore_v1._helpers.GeoPoint object at 0x000001F7AEE96CA0>, 'categories': '000'}, {'description': 'CS5 Red Curry', 'foodID': '92512e62-7b66-44b9-a8f7-b029271b11d5', 'foodName': 'CS5 Red Curry', 'foodURL': 'http://laddabistro.com/wp-content/uploads/2020/05/24-A-Chicken-Red-Curry-scaled.jpg\")', 'price': 12.0, 'storeID': 6, 'storeName': 'Ladda Bistro', 'foodLink': 'https://laddabistro.com/online-order/', 'storeAddress': 'Ladda Bistro, 442 Cherry St, Macon, GA 31201', 'storeImg': 'http://laddabistro.com/wp-content/uploads/2020/05/Ladda-Logo-ThumbN.png', 'location': <google.cloud.firestore_v1._helpers.GeoPoint object at 0x000001F7AEEA5250>, 'categories': '000'}, {'description': 'CS3 Baby Back Ribs', 'foodID': '183e9732-0a50-4b12-87bb-b661c88f65ce', 'foodName': 'CS3 Baby Back Ribs', 'foodURL': 'http://laddabistro.com/wp-content/uploads/2020/05/22-A-Baby-Back-Ribs-scaled.jpg\")', 'price': 19.0, 'storeID': 6, 'storeName': 'Ladda Bistro', 'foodLink': 'https://laddabistro.com/online-order/', 'storeAddress': 'Ladda Bistro, 442 Cherry St, Macon, GA 31201', 'storeImg': 'http://laddabistro.com/wp-content/uploads/2020/05/Ladda-Logo-ThumbN.png', 'location': <google.cloud.firestore_v1._helpers.GeoPoint object at 0x000001F7AEE96730>, 'categories': '000'}, {'description': 'CS2 DUCK', 'foodID': 'cf57f3c8-6edc-45fd-951a-21a4797874ee', 'foodName': 'CS2 DUCK', 'foodURL': 'http://laddabistro.com/wp-content/uploads/2020/05/21-A-Crispy-Duck_sm.png\")', 'price': 25.5, 'storeID': 6, 'storeName': 'Ladda Bistro', 'foodLink': 'https://laddabistro.com/online-order/', 'storeAddress': 'Ladda Bistro, 442 Cherry St, Macon, GA 31201', 'storeImg': 'http://laddabistro.com/wp-content/uploads/2020/05/Ladda-Logo-ThumbN.png', 'location': <google.cloud.firestore_v1._helpers.GeoPoint object at 0x000001F7AEE966A0>, 'categories': '000'}, {'description': 'CS1 Steamed Mussels', 'foodID': '195b9f49-99b9-4335-9dd6-93aabe77af70', 'foodName': 'CS1 Steamed Mussels', 'foodURL': 'http://laddabistro.com/wp-content/uploads/2020/05/20-A-Steamed-Mussels-scaled.jpg\")', 'price': 14.0, 'storeID': 6, 'storeName': 'Ladda Bistro', 'foodLink': 'https://laddabistro.com/online-order/', 'storeAddress': 'Ladda Bistro, 442 Cherry St, Macon, GA 31201', 'storeImg': 'http://laddabistro.com/wp-content/uploads/2020/05/Ladda-Logo-ThumbN.png', 'location': <google.cloud.firestore_v1._helpers.GeoPoint object at 0x000001F7AEE96AF0>, 'categories': '000'}, {'description': 'N6 Pad Woon Sen', 'foodID': 'a94553e0-4545-4e40-9af7-94f246aa492c', 'foodName': 'N6 Pad Woon Sen', 'foodURL': 'http://laddabistro.com/wp-content/uploads/2020/05/38-A-Glass-Noodle-Chicken-Stir-Fry-Pad-Woon-Sen-scaled.jpg\")', 'price': 11.0, 'storeID': 6, 'storeName': 'Ladda Bistro', 'foodLink': 'https://laddabistro.com/online-order/', 'storeAddress': 'Ladda Bistro, 442 Cherry St, Macon, GA 31201', 'storeImg': 'http://laddabistro.com/wp-content/uploads/2020/05/Ladda-Logo-ThumbN.png', 'location': <google.cloud.firestore_v1._helpers.GeoPoint object at 0x000001F7AEE963A0>, 'categories': '000'}, {'description': 'N4 Noodle Soup', 'foodID': '9274a044-a93f-4b99-8d89-64fc1560bbef', 'foodName': 'N4 Noodle Soup', 'foodURL': 'http://laddabistro.com/wp-content/uploads/2020/05/36-A-Beef-Noodle-Soup-scaled.jpg\")', 'price': 9.0, 'storeID': 6, 'storeName': 'Ladda Bistro', 'foodLink': 'https://laddabistro.com/online-order/', 'storeAddress': 'Ladda Bistro, 442 Cherry St, Macon, GA 31201', 'storeImg': 'http://laddabistro.com/wp-content/uploads/2020/05/Ladda-Logo-ThumbN.png', 'location': <google.cloud.firestore_v1._helpers.GeoPoint object at 0x000001F7AEE96190>, 'categories': '000'}, {'description': 'N2 Drunken Beef Noodle', 'foodID': '0a32025f-94bf-4d4e-af32-4fc522148ed0', 'foodName': 'N2 Drunken Beef Noodle', 'foodURL': 'http://laddabistro.com/wp-content/uploads/2020/05/34-A-Drunken-Beef-Noodles-scaled.jpg\")', 'price': 13.5, 'storeID': 6, 'storeName': 'Ladda Bistro', 'foodLink': 'https://laddabistro.com/online-order/', 'storeAddress': 'Ladda Bistro, 442 Cherry St, Macon, GA 31201', 'storeImg': 'http://laddabistro.com/wp-content/uploads/2020/05/Ladda-Logo-ThumbN.png', 'location': <google.cloud.firestore_v1._helpers.GeoPoint object at 0x000001F7AEEA51C0>, 'categories': '000'}, {'description': 'N1 Pad Thai Shrimp', 'foodID': 'ec73cc36-7012-40db-b797-de45ca636b5d', 'foodName': 'N1 Pad Thai Shrimp', 'foodURL': 'http://laddabistro.com/wp-content/uploads/2020/05/33-A-Pad-Thai-Shrimp-scaled.jpg\")', 'price': 15.0, 'storeID': 6, 'storeName': 'Ladda Bistro', 'foodLink': 'https://laddabistro.com/online-order/', 'storeAddress': 'Ladda Bistro, 442 Cherry St, Macon, GA 31201', 'storeImg': 'http://laddabistro.com/wp-content/uploads/2020/05/Ladda-Logo-ThumbN.png', 'location': <google.cloud.firestore_v1._helpers.GeoPoint object at 0x000001F7AFA0F790>, 'categories': '000'}, {'description': 'N3 Pad Si Eew', 'foodID': 'c8a02d8a-0db7-403e-9bbf-7c980f288351', 'foodName': 'N3 Pad Si Eew', 'foodURL': 'http://laddabistro.com/wp-content/uploads/2020/05/35-A-Rice-Noodle-Pork-Stir-Fry-Pad-Si-Eew-scaled.jpg\")', 'price': 11.0, 'storeID': 6, 'storeName': 'Ladda Bistro', 'foodLink': 'https://laddabistro.com/online-order/', 'storeAddress': 'Ladda Bistro, 442 Cherry St, Macon, GA 31201', 'storeImg': 'http://laddabistro.com/wp-content/uploads/2020/05/Ladda-Logo-ThumbN.png', 'location': <google.cloud.firestore_v1._helpers.GeoPoint object at 0x000001F7AEEA5970>, 'categories': '000'}, {'description': 'M8 Massaman', 'foodID': '81d4bdc6-b770-4e9f-8917-00de7fd889a4', 'foodName': 'M8 Massaman', 'foodURL': 'http://laddabistro.com/wp-content/uploads/2020/05/46-A-Masaman-Chicken-Curry-scaled.jpg\")', 'price': 13.0, 'storeID': 6, 'storeName': 'Ladda Bistro', 'foodLink': 'https://laddabistro.com/online-order/', 'storeAddress': 'Ladda Bistro, 442 Cherry St, Macon, GA 31201', 'storeImg': 'http://laddabistro.com/wp-content/uploads/2020/05/Ladda-Logo-ThumbN.png', 'location': <google.cloud.firestore_v1._helpers.GeoPoint object at 0x000001F7AFA0F100>, 'categories': '000'}, {'description': 'M5 Spicy Shrimp Scampi', 'foodID': 'd14f8059-9e90-410c-9f55-d5c363499b9e', 'foodName': 'M5 Spicy Shrimp Scampi', 'foodURL': 'http://laddabistro.com/wp-content/uploads/2020/05/43-A-Spicy-Shrimp-Scampi-with-Curry-Powder-scaled.jpg\")', 'price': 17.0, 'storeID': 6, 'storeName': 'Ladda Bistro', 'foodLink': 'https://laddabistro.com/online-order/', 'storeAddress': 'Ladda Bistro, 442 Cherry St, Macon, GA 31201', 'storeImg': 'http://laddabistro.com/wp-content/uploads/2020/05/Ladda-Logo-ThumbN.png', 'location': <google.cloud.firestore_v1._helpers.GeoPoint object at 0x000001F7AEE9E190>, 'categories': '000'}, {'description': 'M2 Fried Rice PadThai', 'foodID': 'ce7e3990-b9a9-4f82-b9e7-268f3ab56b45', 'foodName': 'M2 Fried Rice PadThai', 'foodURL': 'http://laddabistro.com/wp-content/uploads/2020/05/40-A-Fried-Rice-Pad-Thai-scaled.jpg\")', 'price': 15.0, 'storeID': 6, 'storeName': 'Ladda Bistro', 'foodLink': 'https://laddabistro.com/online-order/', 'storeAddress': 'Ladda Bistro, 442 Cherry St, Macon, GA 31201', 'storeImg': 'http://laddabistro.com/wp-content/uploads/2020/05/Ladda-Logo-ThumbN.png', 'location': <google.cloud.firestore_v1._helpers.GeoPoint object at 0x000001F7AFA0F0D0>, 'categories': '000'}, {'description': 'M4 Basil Chicken', 'foodID': '29e312b6-af14-4ddb-b3c4-102ff38812b2', 'foodName': 'M4 Basil Chicken', 'foodURL': 'http://laddabistro.com/wp-content/uploads/2020/05/42-Spicy-Basil-Chicken-scaled.jpg\")', 'price': 13.0, 'storeID': 6, 'storeName': 'Ladda Bistro', 'foodLink': 'https://laddabistro.com/online-order/', 'storeAddress': 'Ladda Bistro, 442 Cherry St, Macon, GA 31201', 'storeImg': 'http://laddabistro.com/wp-content/uploads/2020/05/Ladda-Logo-ThumbN.png', 'location': <google.cloud.firestore_v1._helpers.GeoPoint object at 0x000001F7AFA0F760>, 'categories': '000'}, {'description': 'M7 Beef Broccoli', 'foodID': 'e5c4671b-b6c7-4361-990e-fac197bf541a', 'foodName': 'M7 Beef Broccoli', 'foodURL': 'http://laddabistro.com/wp-content/uploads/2020/05/45-A-Beef-Broccoli-scaled.jpg\")', 'price': 13.5, 'storeID': 6, 'storeName': 'Ladda Bistro', 'foodLink': 'https://laddabistro.com/online-order/', 'storeAddress': 'Ladda Bistro, 442 Cherry St, Macon, GA 31201', 'storeImg': 'http://laddabistro.com/wp-content/uploads/2020/05/Ladda-Logo-ThumbN.png', 'location': <google.cloud.firestore_v1._helpers.GeoPoint object at 0x000001F7AFA0F1F0>, 'categories': '000'}, {'description': 'M6 Ginger Chicken', 'foodID': 'c90eee2c-612e-487b-8af0-b07a3285d19f', 'foodName': 'M6 Ginger Chicken', 'foodURL': 'http://laddabistro.com/wp-content/uploads/2020/05/44-A-Ginger-Chicken-scaled.jpg\")', 'price': 11.0, 'storeID': 6, 'storeName': 'Ladda Bistro', 'foodLink': 'https://laddabistro.com/online-order/', 'storeAddress': 'Ladda Bistro, 442 Cherry St, Macon, GA 31201', 'storeImg': 'http://laddabistro.com/wp-content/uploads/2020/05/Ladda-Logo-ThumbN.png', 'location': <google.cloud.firestore_v1._helpers.GeoPoint object at 0x000001F7AFA0F0A0>, 'categories': '000'}, {'description': 'M1 Pork Fried Rice', 'foodID': 'b7271c65-fddd-4320-8e00-29ebc055458c', 'foodName': 'M1 Pork Fried Rice', 'foodURL': 'http://laddabistro.com/wp-content/uploads/2020/05/39-A-Pork-Fried-Rice-scaled.jpg\")', 'price': 10.0, 'storeID': 6, 'storeName': 'Ladda Bistro', 'foodLink': 'https://laddabistro.com/online-order/', 'storeAddress': 'Ladda Bistro, 442 Cherry St, Macon, GA 31201', 'storeImg': 'http://laddabistro.com/wp-content/uploads/2020/05/Ladda-Logo-ThumbN.png', 'location': <google.cloud.firestore_v1._helpers.GeoPoint object at 0x000001F7AEEA5CD0>, 'categories': '000'}, {'description': 'Garlic Chicken', 'foodID': '4b14f898-3ee4-49f9-95c3-2e55a331fe07', 'foodName': 'Garlic Chicken', 'foodURL': 'http://laddabistro.com/wp-content/uploads/2020/05/Garlic-chicken-scaled.jpg\")', 'price': 12.0, 'storeID': 6, 'storeName': 'Ladda Bistro', 'foodLink': 'https://laddabistro.com/online-order/', 'storeAddress': 'Ladda Bistro, 442 Cherry St, Macon, GA 31201', 'storeImg': 'http://laddabistro.com/wp-content/uploads/2020/05/Ladda-Logo-ThumbN.png', 'location': <google.cloud.firestore_v1._helpers.GeoPoint object at 0x000001F7AEEA5B50>, 'categories': '000'}, {'description': 'Thai Tea', 'foodID': 'dcfacefb-a296-43ce-bed7-d97a8fd65b7c', 'foodName': 'Thai Tea', 'foodURL': 'http://laddabistro.com/wp-content/uploads/2020/05/ThaiTea-scaled.jpg\")', 'price': 3.0, 'storeID': 6, 'storeName': 'Ladda Bistro', 'foodLink': 'https://laddabistro.com/online-order/', 'storeAddress': 'Ladda Bistro, 442 Cherry St, Macon, GA 31201', 'storeImg': 'http://laddabistro.com/wp-content/uploads/2020/05/Ladda-Logo-ThumbN.png', 'location': <google.cloud.firestore_v1._helpers.GeoPoint object at 0x000001F7AEEA5E80>, 'categories': '000'}, {'description': 'Thai Coffee', 'foodID': '193a0e32-ea10-4ca1-996d-cee81a7deca7', 'foodName': 'Thai Coffee', 'foodURL': 'http://laddabistro.com/wp-content/uploads/2020/05/Thai_Coffee-Tea.jpg\")', 'price': 3.0, 'storeID': 6, 'storeName': 'Ladda Bistro', 'foodLink': 'https://laddabistro.com/online-order/', 'storeAddress': 'Ladda Bistro, 442 Cherry St, Macon, GA 31201', 'storeImg': 'http://laddabistro.com/wp-content/uploads/2020/05/Ladda-Logo-ThumbN.png', 'location': <google.cloud.firestore_v1._helpers.GeoPoint object at 0x000001F7AEEA5070>, 'categories': '000'}, {'description': 'Orange Juice', 'foodID': '2687ecbd-15d0-4e58-934a-ec68d0af1dc3', 'foodName': 'Orange Juice', 'foodURL': 'http://laddabistro.com/wp-content/uploads/2020/05/OJ.jpg\")', 'price': 2.0, 'storeID': 6, 'storeName': 'Ladda Bistro', 'foodLink': 'https://laddabistro.com/online-order/', 'storeAddress': 'Ladda Bistro, 442 Cherry St, Macon, GA 31201', 'storeImg': 'http://laddabistro.com/wp-content/uploads/2020/05/Ladda-Logo-ThumbN.png', 'location': <google.cloud.firestore_v1._helpers.GeoPoint object at 0x000001F7AEEA5670>, 'categories': '000'}, {'description': 'Spring Roll', 'foodID': 'ff1dc2c0-dc96-4dc2-a767-0d13a5621896', 'foodName': 'Spring Roll', 'foodURL': 'http://laddabistro.com/wp-content/uploads/2020/05/1-AP-Spring-Rolls-scaled.jpg\")', 'price': 5.9, 'storeID': 6, 'storeName': 'Ladda Bistro', 'foodLink': 'https://laddabistro.com/online-order/', 'storeAddress': 'Ladda Bistro, 442 Cherry St, Macon, GA 31201', 'storeImg': 'http://laddabistro.com/wp-content/uploads/2020/05/Ladda-Logo-ThumbN.png', 'location': <google.cloud.firestore_v1._helpers.GeoPoint object at 0x000001F7AEEC5250>, 'categories': '000'}, {'description': 'Pork Roll', 'foodID': '5b521f40-2a2e-4e37-9e4f-6b4929b27c29', 'foodName': 'Pork Roll', 'foodURL': 'http://laddabistro.com/wp-content/uploads/2020/05/2-AP-Pork-Rolls-scaled.jpg\")', 'price': 5.9, 'storeID': 6, 'storeName': 'Ladda Bistro', 'foodLink': 'https://laddabistro.com/online-order/', 'storeAddress': 'Ladda Bistro, 442 Cherry St, Macon, GA 31201', 'storeImg': 'http://laddabistro.com/wp-content/uploads/2020/05/Ladda-Logo-ThumbN.png', 'location': <google.cloud.firestore_v1._helpers.GeoPoint object at 0x000001F7AEE9ED30>, 'categories': '000'}, {'description': 'Pork Dumpling', 'foodID': 'c732b5bd-712c-4e57-8fb1-ff5e1ed083b6', 'foodName': 'Pork Dumpling', 'foodURL': 'http://laddabistro.com/wp-content/uploads/2020/05/3-AP-Pork-Dumpling-scaled.jpg\")', 'price': 7.0, 'storeID': 6, 'storeName': 'Ladda Bistro', 'foodLink': 'https://laddabistro.com/online-order/', 'storeAddress': 'Ladda Bistro, 442 Cherry St, Macon, GA 31201', 'storeImg': 'http://laddabistro.com/wp-content/uploads/2020/05/Ladda-Logo-ThumbN.png', 'location': <google.cloud.firestore_v1._helpers.GeoPoint object at 0x000001F7AEEC56A0>, 'categories': '000'}, {'description': 'Green Tomatoes', 'foodID': '4b0beced-4847-49bc-8f2c-8754cf7d4661', 'foodName': 'Green Tomatoes', 'foodURL': 'http://laddabistro.com/wp-content/uploads/2020/05/68-B-Fried-Green-Tomato-scaled.jpg\")', 'price': 6.5, 'storeID': 6, 'storeName': 'Ladda Bistro', 'foodLink': 'https://laddabistro.com/online-order/', 'storeAddress': 'Ladda Bistro, 442 Cherry St, Macon, GA 31201', 'storeImg': 'http://laddabistro.com/wp-content/uploads/2020/05/Ladda-Logo-ThumbN.png', 'location': <google.cloud.firestore_v1._helpers.GeoPoint object at 0x000001F7AF847FD0>, 'categories': '000'}, {'description': 'Chicken Patty', 'foodID': 'ed300773-c0b9-4155-9b63-b2a2e96cbbca', 'foodName': 'Chicken Patty', 'foodURL': 'http://laddabistro.com/wp-content/uploads/2020/05/4-AP-Chicken-Patties-scaled.jpg\")', 'price': 5.9, 'storeID': 6, 'storeName': 'Ladda Bistro', 'foodLink': 'https://laddabistro.com/online-order/', 'storeAddress': 'Ladda Bistro, 442 Cherry St, Macon, GA 31201', 'storeImg': 'http://laddabistro.com/wp-content/uploads/2020/05/Ladda-Logo-ThumbN.png', 'location': <google.cloud.firestore_v1._helpers.GeoPoint object at 0x000001F7AEE9E3A0>, 'categories': '000'}, {'description': 'Biscuits & Gravy', 'foodID': 'f356828a-45ea-4b19-b653-d05ff94e31f9', 'foodName': 'Biscuits & Gravy', 'foodURL': 'http://laddabistro.com/wp-content/uploads/2020/05/55-B-Fried-Chicken-Biscuit-Gravy-scaled.jpg\")', 'price': 6.75, 'storeID': 6, 'storeName': 'Ladda Bistro', 'foodLink': 'https://laddabistro.com/online-order/', 'storeAddress': 'Ladda Bistro, 442 Cherry St, Macon, GA 31201', 'storeImg': 'http://laddabistro.com/wp-content/uploads/2020/05/Ladda-Logo-ThumbN.png', 'location': <google.cloud.firestore_v1._helpers.GeoPoint object at 0x000001F7AF847340>, 'categories': '000'}, {'description': 'SmokedSalmon Benedict', 'foodID': '1cd76f3f-6d7a-41ef-ade4-041b4ef2b0a3', 'foodName': 'SmokedSalmon Benedict', 'foodURL': 'http://laddabistro.com/wp-content/uploads/2020/05/53-B-Smoked-Salmon-Benedict-1.jpg\")', 'price': 18.0, 'storeID': 6, 'storeName': 'Ladda Bistro', 'foodLink': 'https://laddabistro.com/online-order/', 'storeAddress': 'Ladda Bistro, 442 Cherry St, Macon, GA 31201', 'storeImg': 'http://laddabistro.com/wp-content/uploads/2020/05/Ladda-Logo-ThumbN.png', 'location': <google.cloud.firestore_v1._helpers.GeoPoint object at 0x000001F7AEE9EEE0>, 'categories': '000'}, {'description': 'Crab Cake Benedict', 'foodID': 'bbb5bf24-23da-4d6e-b492-7b183e090f6d', 'foodName': 'Crab Cake Benedict', 'foodURL': 'http://laddabistro.com/wp-content/uploads/2020/05/54-B-Crab-Cake-Benedict-scaled.jpg\")', 'price': 20.0, 'storeID': 6, 'storeName': 'Ladda Bistro', 'foodLink': 'https://laddabistro.com/online-order/', 'storeAddress': 'Ladda Bistro, 442 Cherry St, Macon, GA 31201', 'storeImg': 'http://laddabistro.com/wp-content/uploads/2020/05/Ladda-Logo-ThumbN.png', 'location': <google.cloud.firestore_v1._helpers.GeoPoint object at 0x000001F7AEEC5310>, 'categories': '000'}, {'description': 'Chicken & Waffle', 'foodID': '6aa140ac-13a0-41e5-90fb-62caabb55295', 'foodName': 'Chicken & Waffle', 'foodURL': 'http://laddabistro.com/wp-content/uploads/2020/05/57-B-Fried-Chicken-Waffle-scaled.jpg\")', 'price': 10.5, 'storeID': 6, 'storeName': 'Ladda Bistro', 'foodLink': 'https://laddabistro.com/online-order/', 'storeAddress': 'Ladda Bistro, 442 Cherry St, Macon, GA 31201', 'storeImg': 'http://laddabistro.com/wp-content/uploads/2020/05/Ladda-Logo-ThumbN.png', 'location': <google.cloud.firestore_v1._helpers.GeoPoint object at 0x000001F7AF847A60>, 'categories': '000'}, {'description': '3 Egg Omelettes', 'foodID': '04f8cee8-4adf-440e-9b25-abbd34821465', 'foodName': '3 Egg Omelettes', 'foodURL': 'http://laddabistro.com/wp-content/uploads/2020/05/58-B-3-Egg-Omelette-1.jpg\")', 'price': 10.0, 'storeID': 6, 'storeName': 'Ladda Bistro', 'foodLink': 'https://laddabistro.com/online-order/', 'storeAddress': 'Ladda Bistro, 442 Cherry St, Macon, GA 31201', 'storeImg': 'http://laddabistro.com/wp-content/uploads/2020/05/Ladda-Logo-ThumbN.png', 'location': <google.cloud.firestore_v1._helpers.GeoPoint object at 0x000001F7AEE9E730>, 'categories': '000'}, {'description': 'Tempura Shrimp', 'foodID': '8b6d82e0-be00-4f63-8cb9-a76028020387', 'foodName': 'Tempura Shrimp', 'foodURL': 'http://laddabistro.com/wp-content/uploads/2020/05/29-A-Tempura-Shrimp-Platter-scaled.jpg\")', 'price': 13.0, 'storeID': 6, 'storeName': 'Ladda Bistro', 'foodLink': 'https://laddabistro.com/online-order/', 'storeAddress': 'Ladda Bistro, 442 Cherry St, Macon, GA 31201', 'storeImg': 'http://laddabistro.com/wp-content/uploads/2020/05/Ladda-Logo-ThumbN.png', 'location': <google.cloud.firestore_v1._helpers.GeoPoint object at 0x000001F7AEDF9160>, 'categories': '000'}, {'description': 'Chicken Red Curry', 'foodID': 'd83fc870-d375-4c09-b29f-d4b78d4d7ea5', 'foodName': 'Chicken Red Curry', 'foodURL': 'http://laddabistro.com/wp-content/uploads/2020/05/24-A-Chicken-Red-Curry-scaled.jpg\")', 'price': 12.0, 'storeID': 6, 'storeName': 'Ladda Bistro', 'foodLink': 'https://laddabistro.com/online-order/', 'storeAddress': 'Ladda Bistro, 442 Cherry St, Macon, GA 31201', 'storeImg': 'http://laddabistro.com/wp-content/uploads/2020/05/Ladda-Logo-ThumbN.png', 'location': <google.cloud.firestore_v1._helpers.GeoPoint object at 0x000001F7AEDF9280>, 'categories': '000'}, {'description': 'Shrimp Green Curry', 'foodID': 'c1f50281-b495-4b38-a472-842198e980ac', 'foodName': 'Shrimp Green Curry', 'foodURL': 'http://laddabistro.com/wp-content/uploads/2020/04/25-A-Shrimp-Green-Curry.jpg\")', 'price': 15.0, 'storeID': 6, 'storeName': 'Ladda Bistro', 'foodLink': 'https://laddabistro.com/online-order/', 'storeAddress': 'Ladda Bistro, 442 Cherry St, Macon, GA 31201', 'storeImg': 'http://laddabistro.com/wp-content/uploads/2020/05/Ladda-Logo-ThumbN.png', 'location': <google.cloud.firestore_v1._helpers.GeoPoint object at 0x000001F7AEE99D60>, 'categories': '000'}, {'description': 'Pad Thai Shrimp', 'foodID': 'ddc1be59-5bdc-454a-90eb-2709faca4b56', 'foodName': 'Pad Thai Shrimp', 'foodURL': 'http://laddabistro.com/wp-content/uploads/2020/05/33-A-Pad-Thai-Shrimp-1.jpg\")', 'price': 15.0, 'storeID': 6, 'storeName': 'Ladda Bistro', 'foodLink': 'https://laddabistro.com/online-order/', 'storeAddress': 'Ladda Bistro, 442 Cherry St, Macon, GA 31201', 'storeImg': 'http://laddabistro.com/wp-content/uploads/2020/05/Ladda-Logo-ThumbN.png', 'location': <google.cloud.firestore_v1._helpers.GeoPoint object at 0x000001F7AEE99610>, 'categories': '000'}, {'description': 'DrunkenBeef Noodle', 'foodID': '5c1393ba-a9c5-49a1-88ba-1137aca286d2', 'foodName': 'DrunkenBeef Noodle', 'foodURL': 'http://laddabistro.com/wp-content/uploads/2020/05/34-A-Drunken-Beef-Noodles-scaled.jpg\")', 'price': 14.0, 'storeID': 6, 'storeName': 'Ladda Bistro', 'foodLink': 'https://laddabistro.com/online-order/', 'storeAddress': 'Ladda Bistro, 442 Cherry St, Macon, GA 31201', 'storeImg': 'http://laddabistro.com/wp-content/uploads/2020/05/Ladda-Logo-ThumbN.png', 'location': <google.cloud.firestore_v1._helpers.GeoPoint object at 0x000001F7AEE9EE80>, 'categories': '000'}, {'description': 'Beef Noodle Soup', 'foodID': '76712856-8d59-49ca-8f9f-fbb38c7e18a3', 'foodName': 'Beef Noodle Soup', 'foodURL': 'http://laddabistro.com/wp-content/uploads/2020/05/36-A-Beef-Noodle-Soup-scaled.jpg\")', 'price': 9.0, 'storeID': 6, 'storeName': 'Ladda Bistro', 'foodLink': 'https://laddabistro.com/online-order/', 'storeAddress': 'Ladda Bistro, 442 Cherry St, Macon, GA 31201', 'storeImg': 'http://laddabistro.com/wp-content/uploads/2020/05/Ladda-Logo-ThumbN.png', 'location': <google.cloud.firestore_v1._helpers.GeoPoint object at 0x000001F7AEE9EB20>, 'categories': '000'}, {'description': 'Pork Fried Rice', 'foodID': '4a020d21-f42e-4337-8e22-731a4c00caba', 'foodName': 'Pork Fried Rice', 'foodURL': 'http://laddabistro.com/wp-content/uploads/2020/05/39-A-Pork-Fried-Rice-1-scaled.jpg\")', 'price': 10.0, 'storeID': 6, 'storeName': 'Ladda Bistro', 'foodLink': 'https://laddabistro.com/online-order/', 'storeAddress': 'Ladda Bistro, 442 Cherry St, Macon, GA 31201', 'storeImg': 'http://laddabistro.com/wp-content/uploads/2020/05/Ladda-Logo-ThumbN.png', 'location': <google.cloud.firestore_v1._helpers.GeoPoint object at 0x000001F7AEE9E0D0>, 'categories': '000'}, {'description': 'Mango With Sweet Sticky Rice', 'foodID': '70305527-35ee-45c6-a67d-905ca9b2ea11', 'foodName': 'Mango With Sweet Sticky Rice', 'foodURL': 'http://laddabistro.com/wp-content/uploads/2020/05/Mango_sticky_Rice-scaled.jpg\")', 'price': 7.0, 'storeID': 6, 'storeName': 'Ladda Bistro', 'foodLink': 'https://laddabistro.com/online-order/', 'storeAddress': 'Ladda Bistro, 442 Cherry St, Macon, GA 31201', 'storeImg': 'http://laddabistro.com/wp-content/uploads/2020/05/Ladda-Logo-ThumbN.png', 'location': <google.cloud.firestore_v1._helpers.GeoPoint object at 0x000001F7AF847C40>, 'categories': '000'}, {'description': 'Fried Ice Cream', 'foodID': '59ed5eda-7eed-4c36-a814-b96a91b42e4a', 'foodName': 'Fried Ice Cream', 'foodURL': 'http://laddabistro.com/wp-content/uploads/2020/05/carousel02.jpg\")', 'price': 5.0, 'storeID': 6, 'storeName': 'Ladda Bistro', 'foodLink': 'https://laddabistro.com/online-order/', 'storeAddress': 'Ladda Bistro, 442 Cherry St, Macon, GA 31201', 'storeImg': 'http://laddabistro.com/wp-content/uploads/2020/05/Ladda-Logo-ThumbN.png', 'location': <google.cloud.firestore_v1._helpers.GeoPoint object at 0x000001F7AEEC5280>, 'categories': '000'}]\n"
     ]
    }
   ],
   "source": [
    "raw_results = driver.find_elements_by_xpath(\"//div[@class='osnCardItem']\")\n",
    "\n",
    "foods = []\n",
    "for row in raw_results:\n",
    "    try:\n",
    "        data = {}\n",
    "        srcURL = (row.find_element_by_xpath(\"./child::div[@class='osnImgItem']\").get_attribute(\"style\")[23:-1])\n",
    "        placeHolder = row.text.splitlines()\n",
    "        data['description'] = placeHolder[0]\n",
    "        data['foodID'] = str(uuid.uuid4())\n",
    "        data['foodName'] = placeHolder[0]\n",
    "        data['foodURL'] = srcURL\n",
    "        data['price'] = float(placeHolder[1][1:])\n",
    "        data['storeID'] = 6\n",
    "        data['storeName'] = 'Ladda Bistro'\n",
    "        data['foodLink'] = base\n",
    "        data['storeAddress'] = \"Ladda Bistro, 442 Cherry St, Macon, GA 31201\"\n",
    "        data['storeImg'] = 'http://laddabistro.com/wp-content/uploads/2020/05/Ladda-Logo-ThumbN.png'\n",
    "        data['location'] = firestore.GeoPoint(32.834780, -83.626860)\n",
    "        data['categories'] = '000'\n",
    "        if \"http://laddabistro.com/wp-content/uploads/2020/05/Ladda-Logo-ThumbN.png\" not in data['foodURL']:\n",
    "            foods.append(data)\n",
    "            db.collection(u'foods').document(data['foodID']).set(data)\n",
    "#         print(data)\n",
    "    except :\n",
    "        pass\n",
    "\n",
    "foods = foods[5:-4]\n",
    "print(foods)"
   ]
  },
  {
   "cell_type": "code",
   "execution_count": 303,
   "metadata": {},
   "outputs": [],
   "source": [
    "base = \"https://www.toasttab.com/rreal-tacos-atl-100-6th-st-unit-110/v3/\"\n",
    "driver.get(base)"
   ]
  },
  {
   "cell_type": "code",
   "execution_count": 310,
   "metadata": {},
   "outputs": [
    {
     "name": "stdout",
     "output_type": "stream",
     "text": [
      "{'description': 'Seasoned Pork slowly cookedin a spinning trompo.', 'foodID': 'f7f97f6d-c9e9-407c-a765-6b2c2df8a78b', 'foodName': 'Al Pastor', 'foodURL': 'https://s3.amazonaws.com/toasttab/menu_service/restaurants/05507805-dd4a-41fa-b941-1ed125690029/MenuItem/331a220c-d4d2-4feb-818a-3c4262cd625b_180.png', 'price': 4.0, 'storeID': 7, 'storeName': 'Rreal Tacos', 'foodLink': 'https://www.toasttab.com/rreal-tacos-atl-100-6th-st-unit-110/v3/', 'storeAddress': 'Rreal Tacos, 1602 Montpelier Ave, Macon, GA 31201', 'storeImg': 'https://secureservercdn.net/166.62.112.107/52p.010.myftpupload.com/wp-content/uploads/2021/04/SAKURA-BIG-LOGO-T-SHIRT-1.png', 'location': <google.cloud.firestore_v1._helpers.GeoPoint object at 0x000001F7AF2BF340>, 'categories': '010'}\n",
      "{'description': 'Adobo Grilled Chicken', 'foodID': 'cdea160c-6ddc-423d-8b14-361a6fda3070', 'foodName': 'Grilled Chicken', 'foodURL': 'https://s3.amazonaws.com/toasttab/menu_service/restaurants/05507805-dd4a-41fa-b941-1ed125690029/MenuItem/804fa386-4f64-4c2e-9c8d-9588eeec8e2a_180.png', 'price': 4.0, 'storeID': 7, 'storeName': 'Rreal Tacos', 'foodLink': 'https://www.toasttab.com/rreal-tacos-atl-100-6th-st-unit-110/v3/', 'storeAddress': 'Rreal Tacos, 1602 Montpelier Ave, Macon, GA 31201', 'storeImg': 'https://secureservercdn.net/166.62.112.107/52p.010.myftpupload.com/wp-content/uploads/2021/04/SAKURA-BIG-LOGO-T-SHIRT-1.png', 'location': <google.cloud.firestore_v1._helpers.GeoPoint object at 0x000001F7AF2BF340>, 'categories': '010'}\n",
      "{'description': 'Marinated Grilled Beef', 'foodID': 'a23e3be6-42c7-4f90-a787-a47f3f14ffd0', 'foodName': 'Asada', 'foodURL': 'https://s3.amazonaws.com/toasttab/menu_service/restaurants/05507805-dd4a-41fa-b941-1ed125690029/MenuItem/cd9c8147-1307-4e04-ac0d-2b080d96fca4_180.png', 'price': 4.0, 'storeID': 7, 'storeName': 'Rreal Tacos', 'foodLink': 'https://www.toasttab.com/rreal-tacos-atl-100-6th-st-unit-110/v3/', 'storeAddress': 'Rreal Tacos, 1602 Montpelier Ave, Macon, GA 31201', 'storeImg': 'https://secureservercdn.net/166.62.112.107/52p.010.myftpupload.com/wp-content/uploads/2021/04/SAKURA-BIG-LOGO-T-SHIRT-1.png', 'location': <google.cloud.firestore_v1._helpers.GeoPoint object at 0x000001F7AF2BF340>, 'categories': '010'}\n",
      "{'description': 'Grilled Mahi', 'foodID': '91754c2e-c61c-4e3e-9f3d-3c9fdf34c0f6', 'foodName': 'Grilled Fish', 'foodURL': 'https://s3.amazonaws.com/toasttab/menu_service/restaurants/05507805-dd4a-41fa-b941-1ed125690029/MenuItem/db6976f3-3b48-4f75-8c9b-48270e26eaf3_180.png', 'price': 4.5, 'storeID': 7, 'storeName': 'Rreal Tacos', 'foodLink': 'https://www.toasttab.com/rreal-tacos-atl-100-6th-st-unit-110/v3/', 'storeAddress': 'Rreal Tacos, 1602 Montpelier Ave, Macon, GA 31201', 'storeImg': 'https://secureservercdn.net/166.62.112.107/52p.010.myftpupload.com/wp-content/uploads/2021/04/SAKURA-BIG-LOGO-T-SHIRT-1.png', 'location': <google.cloud.firestore_v1._helpers.GeoPoint object at 0x000001F7AEE96430>, 'categories': '010'}\n",
      "{'description': 'Slow cooked, Shredded', 'foodID': 'eedd6f11-3336-4bf0-8e0b-7bb2f6078e06', 'foodName': 'Pork Carnitas', 'foodURL': 'https://s3.amazonaws.com/toasttab/menu_service/restaurants/05507805-dd4a-41fa-b941-1ed125690029/MenuItem/41a00c09-59ab-413c-9840-92de1f8ff315_180.png', 'price': 4.0, 'storeID': 7, 'storeName': 'Rreal Tacos', 'foodLink': 'https://www.toasttab.com/rreal-tacos-atl-100-6th-st-unit-110/v3/', 'storeAddress': 'Rreal Tacos, 1602 Montpelier Ave, Macon, GA 31201', 'storeImg': 'https://secureservercdn.net/166.62.112.107/52p.010.myftpupload.com/wp-content/uploads/2021/04/SAKURA-BIG-LOGO-T-SHIRT-1.png', 'location': <google.cloud.firestore_v1._helpers.GeoPoint object at 0x000001F7AEE96430>, 'categories': '010'}\n",
      "{'description': 'Grilled Shrimp', 'foodID': '5e2e7baf-49bf-4586-8c3b-a20fdbbad181', 'foodName': 'Shrimp', 'foodURL': 'https://s3.amazonaws.com/toasttab/menu_service/restaurants/05507805-dd4a-41fa-b941-1ed125690029/MenuItem/41525492-c7c1-408b-b470-35dab15f3253_180.png', 'price': 4.5, 'storeID': 7, 'storeName': 'Rreal Tacos', 'foodLink': 'https://www.toasttab.com/rreal-tacos-atl-100-6th-st-unit-110/v3/', 'storeAddress': 'Rreal Tacos, 1602 Montpelier Ave, Macon, GA 31201', 'storeImg': 'https://secureservercdn.net/166.62.112.107/52p.010.myftpupload.com/wp-content/uploads/2021/04/SAKURA-BIG-LOGO-T-SHIRT-1.png', 'location': <google.cloud.firestore_v1._helpers.GeoPoint object at 0x000001F7AEE96430>, 'categories': '010'}\n",
      "{'description': 'Seasoned with Oregano, Garlic, Onion. Cooked for 12hrs and pulled.', 'foodID': 'd53d4466-9601-4171-80e1-bb39091391a2', 'foodName': 'Beef Barbacoa', 'foodURL': 'https://s3.amazonaws.com/toasttab/menu_service/restaurants/05507805-dd4a-41fa-b941-1ed125690029/MenuItem/d75c4af6-5e10-49b4-95bb-0c458fb055d7_180.png', 'price': 4.0, 'storeID': 7, 'storeName': 'Rreal Tacos', 'foodLink': 'https://www.toasttab.com/rreal-tacos-atl-100-6th-st-unit-110/v3/', 'storeAddress': 'Rreal Tacos, 1602 Montpelier Ave, Macon, GA 31201', 'storeImg': 'https://secureservercdn.net/166.62.112.107/52p.010.myftpupload.com/wp-content/uploads/2021/04/SAKURA-BIG-LOGO-T-SHIRT-1.png', 'location': <google.cloud.firestore_v1._helpers.GeoPoint object at 0x000001F7AEE96430>, 'categories': '010'}\n",
      "{'description': 'Crispy Avocado and Refried Beans', 'foodID': 'ab9c1720-69a7-47d1-81dc-c2b0b61fc477', 'foodName': 'Veggie', 'foodURL': 'https://s3.amazonaws.com/toasttab/menu_service/restaurants/05507805-dd4a-41fa-b941-1ed125690029/MenuItem/0fe9fe68-009f-4f42-80fc-edb26445bf13_180.png', 'price': 4.0, 'storeID': 7, 'storeName': 'Rreal Tacos', 'foodLink': 'https://www.toasttab.com/rreal-tacos-atl-100-6th-st-unit-110/v3/', 'storeAddress': 'Rreal Tacos, 1602 Montpelier Ave, Macon, GA 31201', 'storeImg': 'https://secureservercdn.net/166.62.112.107/52p.010.myftpupload.com/wp-content/uploads/2021/04/SAKURA-BIG-LOGO-T-SHIRT-1.png', 'location': <google.cloud.firestore_v1._helpers.GeoPoint object at 0x000001F7AEE96430>, 'categories': '010'}\n",
      "{'description': 'Consome to dip your tacos Birria style!', 'foodID': '51cb3149-1275-4d26-b553-c82b9cf0fa5b', 'foodName': 'Consomé Birria Dip Sauce', 'foodURL': 'https://s3.amazonaws.com/toasttab/restaurants/restaurant-81184000000000000/menu/items/1/item-400000013906150821_1630376258_180.png', 'price': 3.0, 'storeID': 7, 'storeName': 'Rreal Tacos', 'foodLink': 'https://www.toasttab.com/rreal-tacos-atl-100-6th-st-unit-110/v3/', 'storeAddress': 'Rreal Tacos, 1602 Montpelier Ave, Macon, GA 31201', 'storeImg': 'https://secureservercdn.net/166.62.112.107/52p.010.myftpupload.com/wp-content/uploads/2021/04/SAKURA-BIG-LOGO-T-SHIRT-1.png', 'location': <google.cloud.firestore_v1._helpers.GeoPoint object at 0x000001F7AEE96430>, 'categories': '010'}\n",
      "{'description': 'Chips & Salsa', 'foodID': '28d8dbf2-9dcb-4f3a-8542-298072231f09', 'foodName': 'Chips & Salsa', 'foodURL': 'https://s3.amazonaws.com/toasttab/menu_service/restaurants/05507805-dd4a-41fa-b941-1ed125690029/MenuItem/98a151fd-9578-440f-bf05-6eeb468bc7de_180.jpg', 'price': 3.0, 'storeID': 7, 'storeName': 'Rreal Tacos', 'foodLink': 'https://www.toasttab.com/rreal-tacos-atl-100-6th-st-unit-110/v3/', 'storeAddress': 'Rreal Tacos, 1602 Montpelier Ave, Macon, GA 31201', 'storeImg': 'https://secureservercdn.net/166.62.112.107/52p.010.myftpupload.com/wp-content/uploads/2021/04/SAKURA-BIG-LOGO-T-SHIRT-1.png', 'location': <google.cloud.firestore_v1._helpers.GeoPoint object at 0x000001F7AEE96430>, 'categories': '010'}\n",
      "{'description': 'Guac & Chips', 'foodID': 'ed502762-3125-459f-a6c2-5ee56841fe9b', 'foodName': 'Guac & Chips', 'foodURL': 'https://s3.amazonaws.com/toasttab/menu_service/restaurants/05507805-dd4a-41fa-b941-1ed125690029/MenuItem/9917680d-905d-416a-9b29-61c37bdfc60b_180.png', 'price': 6.0, 'storeID': 7, 'storeName': 'Rreal Tacos', 'foodLink': 'https://www.toasttab.com/rreal-tacos-atl-100-6th-st-unit-110/v3/', 'storeAddress': 'Rreal Tacos, 1602 Montpelier Ave, Macon, GA 31201', 'storeImg': 'https://secureservercdn.net/166.62.112.107/52p.010.myftpupload.com/wp-content/uploads/2021/04/SAKURA-BIG-LOGO-T-SHIRT-1.png', 'location': <google.cloud.firestore_v1._helpers.GeoPoint object at 0x000001F7AEE96430>, 'categories': '010'}\n",
      "{'description': 'Elote', 'foodID': 'fe8f2aad-c53d-44dd-a129-77bac946c51d', 'foodName': 'Elote', 'foodURL': 'https://s3.amazonaws.com/toasttab/menu_service/restaurants/05507805-dd4a-41fa-b941-1ed125690029/MenuItem/f3d712c1-f6f6-4a1f-8e87-c1c925a88d23_180.png', 'price': 4.0, 'storeID': 7, 'storeName': 'Rreal Tacos', 'foodLink': 'https://www.toasttab.com/rreal-tacos-atl-100-6th-st-unit-110/v3/', 'storeAddress': 'Rreal Tacos, 1602 Montpelier Ave, Macon, GA 31201', 'storeImg': 'https://secureservercdn.net/166.62.112.107/52p.010.myftpupload.com/wp-content/uploads/2021/04/SAKURA-BIG-LOGO-T-SHIRT-1.png', 'location': <google.cloud.firestore_v1._helpers.GeoPoint object at 0x000001F7AEE96430>, 'categories': '010'}\n"
     ]
    },
    {
     "name": "stdout",
     "output_type": "stream",
     "text": [
      "{'description': 'Queso Dip', 'foodID': '58ad7d38-ce61-4c1d-af93-a50794f3df07', 'foodName': 'Queso Dip', 'foodURL': 'https://s3.amazonaws.com/toasttab/menu_service/restaurants/05507805-dd4a-41fa-b941-1ed125690029/MenuItem/f93ccc09-7296-4c15-aabc-14d0729d9f6b_180.png', 'price': 6.0, 'storeID': 7, 'storeName': 'Rreal Tacos', 'foodLink': 'https://www.toasttab.com/rreal-tacos-atl-100-6th-st-unit-110/v3/', 'storeAddress': 'Rreal Tacos, 1602 Montpelier Ave, Macon, GA 31201', 'storeImg': 'https://secureservercdn.net/166.62.112.107/52p.010.myftpupload.com/wp-content/uploads/2021/04/SAKURA-BIG-LOGO-T-SHIRT-1.png', 'location': <google.cloud.firestore_v1._helpers.GeoPoint object at 0x000001F7AEE96430>, 'categories': '010'}\n",
      "{'description': 'Molletes', 'foodID': 'c8606f90-5a5b-4514-936a-5706282c4ee5', 'foodName': 'Molletes', 'foodURL': 'https://s3.amazonaws.com/toasttab/menu_service/restaurants/05507805-dd4a-41fa-b941-1ed125690029/MenuItem/2bc1163b-d135-4556-993e-3025af3acfec_180.jpg', 'price': 5.0, 'storeID': 7, 'storeName': 'Rreal Tacos', 'foodLink': 'https://www.toasttab.com/rreal-tacos-atl-100-6th-st-unit-110/v3/', 'storeAddress': 'Rreal Tacos, 1602 Montpelier Ave, Macon, GA 31201', 'storeImg': 'https://secureservercdn.net/166.62.112.107/52p.010.myftpupload.com/wp-content/uploads/2021/04/SAKURA-BIG-LOGO-T-SHIRT-1.png', 'location': <google.cloud.firestore_v1._helpers.GeoPoint object at 0x000001F7AEE96430>, 'categories': '010'}\n",
      "{'description': 'Crispy Avocado', 'foodID': 'c5701daa-a899-470b-a41a-5f2611f4ef33', 'foodName': 'Crispy Avocado', 'foodURL': 'https://s3.amazonaws.com/toasttab/menu_service/restaurants/05507805-dd4a-41fa-b941-1ed125690029/MenuItem/164f853e-8c32-43b2-a757-ad3d421ebaa0_180.png', 'price': 4.0, 'storeID': 7, 'storeName': 'Rreal Tacos', 'foodLink': 'https://www.toasttab.com/rreal-tacos-atl-100-6th-st-unit-110/v3/', 'storeAddress': 'Rreal Tacos, 1602 Montpelier Ave, Macon, GA 31201', 'storeImg': 'https://secureservercdn.net/166.62.112.107/52p.010.myftpupload.com/wp-content/uploads/2021/04/SAKURA-BIG-LOGO-T-SHIRT-1.png', 'location': <google.cloud.firestore_v1._helpers.GeoPoint object at 0x000001F7AEE96430>, 'categories': '010'}\n",
      "{'description': 'Big Mexican Sandwich with your choice of Taco Meat.', 'foodID': 'a5d5f26e-b06c-4e58-8994-8632ce6f8a81', 'foodName': 'TORTA', 'foodURL': 'https://s3.amazonaws.com/toasttab/menu_service/restaurants/05507805-dd4a-41fa-b941-1ed125690029/MenuItem/1b6aa7ac-6646-4e81-a0db-eb8dad3edc84_180.png', 'price': 9.0, 'storeID': 7, 'storeName': 'Rreal Tacos', 'foodLink': 'https://www.toasttab.com/rreal-tacos-atl-100-6th-st-unit-110/v3/', 'storeAddress': 'Rreal Tacos, 1602 Montpelier Ave, Macon, GA 31201', 'storeImg': 'https://secureservercdn.net/166.62.112.107/52p.010.myftpupload.com/wp-content/uploads/2021/04/SAKURA-BIG-LOGO-T-SHIRT-1.png', 'location': <google.cloud.firestore_v1._helpers.GeoPoint object at 0x000001F7AEE96430>, 'categories': '010'}\n",
      "{'description': 'Tortilla, Rice, Beans, Peppers & Onions, Shredded Cheese and your choice of Taco Meat', 'foodID': '224d08aa-78ff-4f2e-a963-f96442f69a9a', 'foodName': 'Burrito', 'foodURL': 'https://s3.amazonaws.com/toasttab/menu_service/restaurants/05507805-dd4a-41fa-b941-1ed125690029/MenuItem/bc12917c-d575-4017-9585-355032356608_180.png', 'price': 9.0, 'storeID': 7, 'storeName': 'Rreal Tacos', 'foodLink': 'https://www.toasttab.com/rreal-tacos-atl-100-6th-st-unit-110/v3/', 'storeAddress': 'Rreal Tacos, 1602 Montpelier Ave, Macon, GA 31201', 'storeImg': 'https://secureservercdn.net/166.62.112.107/52p.010.myftpupload.com/wp-content/uploads/2021/04/SAKURA-BIG-LOGO-T-SHIRT-1.png', 'location': <google.cloud.firestore_v1._helpers.GeoPoint object at 0x000001F7AEE96430>, 'categories': '010'}\n",
      "{'description': 'Rice, Beans, Peppers & Onions, Shredded Cheese, Pico de Gallo and your choice of Taco Meat', 'foodID': '67b3702b-72b1-481e-b066-af3769c9d33e', 'foodName': 'Burrito Bowl', 'foodURL': 'https://s3.amazonaws.com/toasttab/menu_service/restaurants/05507805-dd4a-41fa-b941-1ed125690029/MenuItem/ba2380c6-4d93-4332-86a9-275a61c7c54d_180.jpg', 'price': 9.0, 'storeID': 7, 'storeName': 'Rreal Tacos', 'foodLink': 'https://www.toasttab.com/rreal-tacos-atl-100-6th-st-unit-110/v3/', 'storeAddress': 'Rreal Tacos, 1602 Montpelier Ave, Macon, GA 31201', 'storeImg': 'https://secureservercdn.net/166.62.112.107/52p.010.myftpupload.com/wp-content/uploads/2021/04/SAKURA-BIG-LOGO-T-SHIRT-1.png', 'location': <google.cloud.firestore_v1._helpers.GeoPoint object at 0x000001F7AEE96430>, 'categories': '010'}\n",
      "{'description': 'Crunchy Tortilla, Sour Cream, Refried Beans, Cabbage, Tomato, Avocado and your choice of Taco Meat', 'foodID': '35928e7d-5428-4fd7-aab6-94ff3cbe8385', 'foodName': 'Tostada', 'foodURL': 'https://s3.amazonaws.com/toasttab/menu_service/restaurants/05507805-dd4a-41fa-b941-1ed125690029/MenuItem/aaee0fec-0545-4e1f-981c-605edf642dc1_180.jpg', 'price': 5.25, 'storeID': 7, 'storeName': 'Rreal Tacos', 'foodLink': 'https://www.toasttab.com/rreal-tacos-atl-100-6th-st-unit-110/v3/', 'storeAddress': 'Rreal Tacos, 1602 Montpelier Ave, Macon, GA 31201', 'storeImg': 'https://secureservercdn.net/166.62.112.107/52p.010.myftpupload.com/wp-content/uploads/2021/04/SAKURA-BIG-LOGO-T-SHIRT-1.png', 'location': <google.cloud.firestore_v1._helpers.GeoPoint object at 0x000001F7AEE96430>, 'categories': '010'}\n",
      "{'description': 'Cheese and your choice of Taco Meat with Pico de Gallo and Sour Cream on the side', 'foodID': 'd8932cfb-8545-4c30-99d5-7a149218b2d3', 'foodName': 'Quesadilla', 'foodURL': 'https://s3.amazonaws.com/toasttab/menu_service/restaurants/05507805-dd4a-41fa-b941-1ed125690029/MenuItem/78324657-08f8-4822-bbcd-cc03a906f212_180.png', 'price': 9.0, 'storeID': 7, 'storeName': 'Rreal Tacos', 'foodLink': 'https://www.toasttab.com/rreal-tacos-atl-100-6th-st-unit-110/v3/', 'storeAddress': 'Rreal Tacos, 1602 Montpelier Ave, Macon, GA 31201', 'storeImg': 'https://secureservercdn.net/166.62.112.107/52p.010.myftpupload.com/wp-content/uploads/2021/04/SAKURA-BIG-LOGO-T-SHIRT-1.png', 'location': <google.cloud.firestore_v1._helpers.GeoPoint object at 0x000001F7AEE96430>, 'categories': '010'}\n",
      "{'description': 'Spring Mix, Cucumber, Onion, Tomato, Queso Fresco, Avocado and Cilantro Dressing. Add your favorite Taco Meat for an extra charge', 'foodID': 'd2873f8b-893e-4c39-b595-87ca880c1bc2', 'foodName': 'Abuela Salad', 'foodURL': 'https://s3.amazonaws.com/toasttab/menu_service/restaurants/05507805-dd4a-41fa-b941-1ed125690029/MenuItem/39a52de2-1552-4acb-8e93-fdc8505b316b_180.png', 'price': 9.5, 'storeID': 7, 'storeName': 'Rreal Tacos', 'foodLink': 'https://www.toasttab.com/rreal-tacos-atl-100-6th-st-unit-110/v3/', 'storeAddress': 'Rreal Tacos, 1602 Montpelier Ave, Macon, GA 31201', 'storeImg': 'https://secureservercdn.net/166.62.112.107/52p.010.myftpupload.com/wp-content/uploads/2021/04/SAKURA-BIG-LOGO-T-SHIRT-1.png', 'location': <google.cloud.firestore_v1._helpers.GeoPoint object at 0x000001F7AEE96430>, 'categories': '010'}\n",
      "{'description': 'Nachos with cheese dip, guac, pico, beans, cream and choice of Taco Meat.', 'foodID': 'b521a81a-6f01-434c-9754-35568013e448', 'foodName': 'RREAL NACHOS', 'foodURL': 'https://s3.amazonaws.com/toasttab/restaurants/restaurant-81184000000000000/menu/items/3/item-400000014947600893_1634244355_180.jpg', 'price': 16.0, 'storeID': 7, 'storeName': 'Rreal Tacos', 'foodLink': 'https://www.toasttab.com/rreal-tacos-atl-100-6th-st-unit-110/v3/', 'storeAddress': 'Rreal Tacos, 1602 Montpelier Ave, Macon, GA 31201', 'storeImg': 'https://secureservercdn.net/166.62.112.107/52p.010.myftpupload.com/wp-content/uploads/2021/04/SAKURA-BIG-LOGO-T-SHIRT-1.png', 'location': <google.cloud.firestore_v1._helpers.GeoPoint object at 0x000001F7AEE96430>, 'categories': '010'}\n",
      "{'description': 'Refried Beans', 'foodID': '57713982-1b46-4dd3-bf94-7a0b72fbfcd7', 'foodName': 'Refried Beans', 'foodURL': 'https://s3.amazonaws.com/toasttab/menu_service/restaurants/05507805-dd4a-41fa-b941-1ed125690029/MenuItem/90872a68-eeae-4386-b3e7-06a721001339_180.png', 'price': 3.5, 'storeID': 7, 'storeName': 'Rreal Tacos', 'foodLink': 'https://www.toasttab.com/rreal-tacos-atl-100-6th-st-unit-110/v3/', 'storeAddress': 'Rreal Tacos, 1602 Montpelier Ave, Macon, GA 31201', 'storeImg': 'https://secureservercdn.net/166.62.112.107/52p.010.myftpupload.com/wp-content/uploads/2021/04/SAKURA-BIG-LOGO-T-SHIRT-1.png', 'location': <google.cloud.firestore_v1._helpers.GeoPoint object at 0x000001F7AEE96430>, 'categories': '010'}\n",
      "{'description': 'Rice', 'foodID': 'c1e8aac7-ece7-4861-8f0d-4d1a7ab3aa4b', 'foodName': 'Rice', 'foodURL': 'https://s3.amazonaws.com/toasttab/menu_service/restaurants/05507805-dd4a-41fa-b941-1ed125690029/MenuItem/614279c5-9c97-42bc-8c3e-be9fc2ae7125_180.png', 'price': 3.5, 'storeID': 7, 'storeName': 'Rreal Tacos', 'foodLink': 'https://www.toasttab.com/rreal-tacos-atl-100-6th-st-unit-110/v3/', 'storeAddress': 'Rreal Tacos, 1602 Montpelier Ave, Macon, GA 31201', 'storeImg': 'https://secureservercdn.net/166.62.112.107/52p.010.myftpupload.com/wp-content/uploads/2021/04/SAKURA-BIG-LOGO-T-SHIRT-1.png', 'location': <google.cloud.firestore_v1._helpers.GeoPoint object at 0x000001F7AEE96430>, 'categories': '010'}\n"
     ]
    },
    {
     "name": "stdout",
     "output_type": "stream",
     "text": [
      "{'description': 'Sweet Potatoes', 'foodID': '9113ed99-808c-4532-9319-54756be8319e', 'foodName': 'Sweet Potatoes', 'foodURL': 'https://s3.amazonaws.com/toasttab/menu_service/restaurants/05507805-dd4a-41fa-b941-1ed125690029/MenuItem/fe4b9ff4-989a-4890-9b1d-a9eca975eb36_180.png', 'price': 3.0, 'storeID': 7, 'storeName': 'Rreal Tacos', 'foodLink': 'https://www.toasttab.com/rreal-tacos-atl-100-6th-st-unit-110/v3/', 'storeAddress': 'Rreal Tacos, 1602 Montpelier Ave, Macon, GA 31201', 'storeImg': 'https://secureservercdn.net/166.62.112.107/52p.010.myftpupload.com/wp-content/uploads/2021/04/SAKURA-BIG-LOGO-T-SHIRT-1.png', 'location': <google.cloud.firestore_v1._helpers.GeoPoint object at 0x000001F7AEE96430>, 'categories': '010'}\n",
      "{'description': 'Empanada', 'foodID': '1fb7ad83-9f30-4beb-885b-008ba43a73f3', 'foodName': 'Empanada', 'foodURL': 'https://s3.amazonaws.com/toasttab/menu_service/restaurants/05507805-dd4a-41fa-b941-1ed125690029/MenuItem/8d7eee26-b203-4091-b3f2-acdebd0ae194_180.png', 'price': 3.0, 'storeID': 7, 'storeName': 'Rreal Tacos', 'foodLink': 'https://www.toasttab.com/rreal-tacos-atl-100-6th-st-unit-110/v3/', 'storeAddress': 'Rreal Tacos, 1602 Montpelier Ave, Macon, GA 31201', 'storeImg': 'https://secureservercdn.net/166.62.112.107/52p.010.myftpupload.com/wp-content/uploads/2021/04/SAKURA-BIG-LOGO-T-SHIRT-1.png', 'location': <google.cloud.firestore_v1._helpers.GeoPoint object at 0x000001F7AEE96430>, 'categories': '010'}\n",
      "{'description': 'Kids Quesadilla', 'foodID': '498a3928-bcc8-4f1a-995d-f3645c4dcf85', 'foodName': 'Kids Quesadilla', 'foodURL': 'https://s3.amazonaws.com/toasttab/menu_service/restaurants/05507805-dd4a-41fa-b941-1ed125690029/MenuItem/10035695-a835-4d6a-bcf9-a9b098aafe27_180.png', 'price': 6.0, 'storeID': 7, 'storeName': 'Rreal Tacos', 'foodLink': 'https://www.toasttab.com/rreal-tacos-atl-100-6th-st-unit-110/v3/', 'storeAddress': 'Rreal Tacos, 1602 Montpelier Ave, Macon, GA 31201', 'storeImg': 'https://secureservercdn.net/166.62.112.107/52p.010.myftpupload.com/wp-content/uploads/2021/04/SAKURA-BIG-LOGO-T-SHIRT-1.png', 'location': <google.cloud.firestore_v1._helpers.GeoPoint object at 0x000001F7AEE96430>, 'categories': '010'}\n",
      "{'description': 'Sweet Plantain, Sweet Cream, Brown Sugar.', 'foodID': '87c660fa-914a-42fc-ab00-31cfb792f438', 'foodName': 'Platano Macho', 'foodURL': 'https://s3.amazonaws.com/toasttab/menu_service/restaurants/05507805-dd4a-41fa-b941-1ed125690029/MenuItem/f2753d82-70f1-44e8-b981-63420fac204e_180.png', 'price': 4.0, 'storeID': 7, 'storeName': 'Rreal Tacos', 'foodLink': 'https://www.toasttab.com/rreal-tacos-atl-100-6th-st-unit-110/v3/', 'storeAddress': 'Rreal Tacos, 1602 Montpelier Ave, Macon, GA 31201', 'storeImg': 'https://secureservercdn.net/166.62.112.107/52p.010.myftpupload.com/wp-content/uploads/2021/04/SAKURA-BIG-LOGO-T-SHIRT-1.png', 'location': <google.cloud.firestore_v1._helpers.GeoPoint object at 0x000001F7AEE96430>, 'categories': '010'}\n",
      "{'description': 'Tres Leches sweet sponge cake with Chantilly cream', 'foodID': '9916b4f6-295a-4573-bfb0-d6691f039e71', 'foodName': 'Tres Leches Cake', 'foodURL': 'https://s3.amazonaws.com/toasttab/menu_service/restaurants/05507805-dd4a-41fa-b941-1ed125690029/MenuItem/8d0b1048-92c2-48a8-abe6-441d7e2da067_180.jpg', 'price': 5.0, 'storeID': 7, 'storeName': 'Rreal Tacos', 'foodLink': 'https://www.toasttab.com/rreal-tacos-atl-100-6th-st-unit-110/v3/', 'storeAddress': 'Rreal Tacos, 1602 Montpelier Ave, Macon, GA 31201', 'storeImg': 'https://secureservercdn.net/166.62.112.107/52p.010.myftpupload.com/wp-content/uploads/2021/04/SAKURA-BIG-LOGO-T-SHIRT-1.png', 'location': <google.cloud.firestore_v1._helpers.GeoPoint object at 0x000001F7AEE96430>, 'categories': '010'}\n"
     ]
    }
   ],
   "source": [
    "raw_results = driver.find_elements_by_xpath(\"//a[@data-testid='menu-item-link']\")\n",
    "\n",
    "foods = []\n",
    "\n",
    "    \n",
    "for row in raw_results:\n",
    "    data = {}\n",
    "    try:\n",
    "        srcURL = (row.find_element_by_xpath(\"./child::div[@data-testid='menu-item-image']\").get_attribute(\"style\")[23:-3])\n",
    "        placeHolder = row.text.splitlines()\n",
    "        if placeHolder[1][0] == '$':\n",
    "            placeHolder.append('')\n",
    "            placeHolder[2] = placeHolder[1]\n",
    "            placeHolder[1] = placeHolder[0]\n",
    "        data['description'] = placeHolder[1]\n",
    "        data['foodID'] = str(uuid.uuid4())\n",
    "        data['foodName'] = placeHolder[0]\n",
    "        data['foodURL'] = srcURL\n",
    "        data['price'] = float(placeHolder[2][1:])\n",
    "        data['storeID'] = 7\n",
    "        data['storeName'] = 'Rreal Tacos'\n",
    "        data['foodLink'] = base\n",
    "        data['storeAddress'] = \"Rreal Tacos, 1602 Montpelier Ave, Macon, GA 31201\"\n",
    "        data['storeImg'] = 'https://secureservercdn.net/166.62.112.107/52p.010.myftpupload.com/wp-content/uploads/2021/04/SAKURA-BIG-LOGO-T-SHIRT-1.png'\n",
    "        data['location'] = firestore.GeoPoint(32.832520, -83.650860)\n",
    "        data['categories'] = '010'\n",
    "        if data['foodURL'] != '':\n",
    "            print(data)\n",
    "            db.collection(u'foods').document(data['foodID']).set(data)\n",
    "#         print(data)\n",
    "        \n",
    "    except :\n",
    "        pass"
   ]
  },
  {
   "cell_type": "code",
   "execution_count": null,
   "metadata": {},
   "outputs": [],
   "source": []
  }
 ],
 "metadata": {
  "kernelspec": {
   "display_name": "Python 3",
   "language": "python",
   "name": "python3"
  },
  "language_info": {
   "codemirror_mode": {
    "name": "ipython",
    "version": 3
   },
   "file_extension": ".py",
   "mimetype": "text/x-python",
   "name": "python",
   "nbconvert_exporter": "python",
   "pygments_lexer": "ipython3",
   "version": "3.8.2"
  }
 },
 "nbformat": 4,
 "nbformat_minor": 4
}
